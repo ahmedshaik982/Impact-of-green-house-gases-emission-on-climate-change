{
 "cells": [
  {
   "cell_type": "markdown",
   "id": "e71a3177",
   "metadata": {},
   "source": [
    " Objective: The main objective of the project is to study the impact of green house gases emissions on climate change."
   ]
  },
  {
   "cell_type": "code",
   "execution_count": null,
   "id": "c42a62b0",
   "metadata": {},
   "outputs": [],
   "source": []
  },
  {
   "cell_type": "code",
   "execution_count": 353,
   "id": "e463db52",
   "metadata": {},
   "outputs": [],
   "source": [
    "# Importing necessary libraries\n",
    "import pandas as pd\n",
    "import numpy as np \n",
    "import matplotlib.pyplot as plt\n",
    "import seaborn as sns\n",
    "\n",
    "\n",
    "import warnings\n",
    "warnings.filterwarnings('ignore')"
   ]
  },
  {
   "cell_type": "code",
   "execution_count": 354,
   "id": "42181e37",
   "metadata": {},
   "outputs": [],
   "source": [
    "# Reading the temperature data\n",
    "temp = pd.read_csv('GlobalLandTemperaturesByCountry.csv')"
   ]
  },
  {
   "cell_type": "code",
   "execution_count": 355,
   "id": "04d1b180",
   "metadata": {},
   "outputs": [
    {
     "data": {
      "text/html": [
       "<div>\n",
       "<style scoped>\n",
       "    .dataframe tbody tr th:only-of-type {\n",
       "        vertical-align: middle;\n",
       "    }\n",
       "\n",
       "    .dataframe tbody tr th {\n",
       "        vertical-align: top;\n",
       "    }\n",
       "\n",
       "    .dataframe thead th {\n",
       "        text-align: right;\n",
       "    }\n",
       "</style>\n",
       "<table border=\"1\" class=\"dataframe\">\n",
       "  <thead>\n",
       "    <tr style=\"text-align: right;\">\n",
       "      <th></th>\n",
       "      <th>dt</th>\n",
       "      <th>AverageTemperature</th>\n",
       "      <th>AverageTemperatureUncertainty</th>\n",
       "      <th>Country</th>\n",
       "    </tr>\n",
       "  </thead>\n",
       "  <tbody>\n",
       "    <tr>\n",
       "      <th>0</th>\n",
       "      <td>1743-11-01</td>\n",
       "      <td>4.384</td>\n",
       "      <td>2.294</td>\n",
       "      <td>Åland</td>\n",
       "    </tr>\n",
       "    <tr>\n",
       "      <th>1</th>\n",
       "      <td>1743-12-01</td>\n",
       "      <td>NaN</td>\n",
       "      <td>NaN</td>\n",
       "      <td>Åland</td>\n",
       "    </tr>\n",
       "    <tr>\n",
       "      <th>2</th>\n",
       "      <td>1744-01-01</td>\n",
       "      <td>NaN</td>\n",
       "      <td>NaN</td>\n",
       "      <td>Åland</td>\n",
       "    </tr>\n",
       "    <tr>\n",
       "      <th>3</th>\n",
       "      <td>1744-02-01</td>\n",
       "      <td>NaN</td>\n",
       "      <td>NaN</td>\n",
       "      <td>Åland</td>\n",
       "    </tr>\n",
       "    <tr>\n",
       "      <th>4</th>\n",
       "      <td>1744-03-01</td>\n",
       "      <td>NaN</td>\n",
       "      <td>NaN</td>\n",
       "      <td>Åland</td>\n",
       "    </tr>\n",
       "  </tbody>\n",
       "</table>\n",
       "</div>"
      ],
      "text/plain": [
       "           dt  AverageTemperature  AverageTemperatureUncertainty Country\n",
       "0  1743-11-01               4.384                          2.294   Åland\n",
       "1  1743-12-01                 NaN                            NaN   Åland\n",
       "2  1744-01-01                 NaN                            NaN   Åland\n",
       "3  1744-02-01                 NaN                            NaN   Åland\n",
       "4  1744-03-01                 NaN                            NaN   Åland"
      ]
     },
     "execution_count": 355,
     "metadata": {},
     "output_type": "execute_result"
    }
   ],
   "source": [
    "#Inspecting the top 5 rows of the data\n",
    "temp.head()"
   ]
  },
  {
   "cell_type": "code",
   "execution_count": 357,
   "id": "5a0e468a",
   "metadata": {},
   "outputs": [],
   "source": [
    "# Converting data  column to date format\n",
    "temp['date'] = pd.to_datetime(temp['dt'])"
   ]
  },
  {
   "cell_type": "code",
   "execution_count": 358,
   "id": "47c57cac",
   "metadata": {},
   "outputs": [
    {
     "data": {
      "text/html": [
       "<div>\n",
       "<style scoped>\n",
       "    .dataframe tbody tr th:only-of-type {\n",
       "        vertical-align: middle;\n",
       "    }\n",
       "\n",
       "    .dataframe tbody tr th {\n",
       "        vertical-align: top;\n",
       "    }\n",
       "\n",
       "    .dataframe thead th {\n",
       "        text-align: right;\n",
       "    }\n",
       "</style>\n",
       "<table border=\"1\" class=\"dataframe\">\n",
       "  <thead>\n",
       "    <tr style=\"text-align: right;\">\n",
       "      <th></th>\n",
       "      <th>dt</th>\n",
       "      <th>AverageTemperature</th>\n",
       "      <th>AverageTemperatureUncertainty</th>\n",
       "      <th>Country</th>\n",
       "      <th>date</th>\n",
       "      <th>year</th>\n",
       "    </tr>\n",
       "  </thead>\n",
       "  <tbody>\n",
       "    <tr>\n",
       "      <th>0</th>\n",
       "      <td>1743-11-01</td>\n",
       "      <td>4.384</td>\n",
       "      <td>2.294</td>\n",
       "      <td>Åland</td>\n",
       "      <td>1743-11-01</td>\n",
       "      <td>1743</td>\n",
       "    </tr>\n",
       "    <tr>\n",
       "      <th>1</th>\n",
       "      <td>1743-12-01</td>\n",
       "      <td>NaN</td>\n",
       "      <td>NaN</td>\n",
       "      <td>Åland</td>\n",
       "      <td>1743-12-01</td>\n",
       "      <td>1743</td>\n",
       "    </tr>\n",
       "    <tr>\n",
       "      <th>2</th>\n",
       "      <td>1744-01-01</td>\n",
       "      <td>NaN</td>\n",
       "      <td>NaN</td>\n",
       "      <td>Åland</td>\n",
       "      <td>1744-01-01</td>\n",
       "      <td>1744</td>\n",
       "    </tr>\n",
       "    <tr>\n",
       "      <th>3</th>\n",
       "      <td>1744-02-01</td>\n",
       "      <td>NaN</td>\n",
       "      <td>NaN</td>\n",
       "      <td>Åland</td>\n",
       "      <td>1744-02-01</td>\n",
       "      <td>1744</td>\n",
       "    </tr>\n",
       "    <tr>\n",
       "      <th>4</th>\n",
       "      <td>1744-03-01</td>\n",
       "      <td>NaN</td>\n",
       "      <td>NaN</td>\n",
       "      <td>Åland</td>\n",
       "      <td>1744-03-01</td>\n",
       "      <td>1744</td>\n",
       "    </tr>\n",
       "  </tbody>\n",
       "</table>\n",
       "</div>"
      ],
      "text/plain": [
       "           dt  AverageTemperature  AverageTemperatureUncertainty Country  \\\n",
       "0  1743-11-01               4.384                          2.294   Åland   \n",
       "1  1743-12-01                 NaN                            NaN   Åland   \n",
       "2  1744-01-01                 NaN                            NaN   Åland   \n",
       "3  1744-02-01                 NaN                            NaN   Åland   \n",
       "4  1744-03-01                 NaN                            NaN   Åland   \n",
       "\n",
       "        date  year  \n",
       "0 1743-11-01  1743  \n",
       "1 1743-12-01  1743  \n",
       "2 1744-01-01  1744  \n",
       "3 1744-02-01  1744  \n",
       "4 1744-03-01  1744  "
      ]
     },
     "execution_count": 358,
     "metadata": {},
     "output_type": "execute_result"
    }
   ],
   "source": [
    "# Extracting year from data\n",
    "temp['year'] = temp['date'].dt.year\n",
    "temp.head()"
   ]
  },
  {
   "cell_type": "code",
   "execution_count": 359,
   "id": "4f83614b",
   "metadata": {},
   "outputs": [
    {
     "data": {
      "text/plain": [
       "dt                                   0\n",
       "AverageTemperature               32651\n",
       "AverageTemperatureUncertainty    31912\n",
       "Country                              0\n",
       "date                                 0\n",
       "year                                 0\n",
       "dtype: int64"
      ]
     },
     "execution_count": 359,
     "metadata": {},
     "output_type": "execute_result"
    }
   ],
   "source": [
    "# Checking for null values\n",
    "temp.isnull().sum()"
   ]
  },
  {
   "cell_type": "code",
   "execution_count": 360,
   "id": "58f026dc",
   "metadata": {},
   "outputs": [
    {
     "data": {
      "text/html": [
       "<div>\n",
       "<style scoped>\n",
       "    .dataframe tbody tr th:only-of-type {\n",
       "        vertical-align: middle;\n",
       "    }\n",
       "\n",
       "    .dataframe tbody tr th {\n",
       "        vertical-align: top;\n",
       "    }\n",
       "\n",
       "    .dataframe thead th {\n",
       "        text-align: right;\n",
       "    }\n",
       "</style>\n",
       "<table border=\"1\" class=\"dataframe\">\n",
       "  <thead>\n",
       "    <tr style=\"text-align: right;\">\n",
       "      <th></th>\n",
       "      <th>dt</th>\n",
       "      <th>AverageTemperature</th>\n",
       "      <th>AverageTemperatureUncertainty</th>\n",
       "      <th>Country</th>\n",
       "      <th>date</th>\n",
       "      <th>year</th>\n",
       "    </tr>\n",
       "  </thead>\n",
       "  <tbody>\n",
       "    <tr>\n",
       "      <th>0</th>\n",
       "      <td>1743-11-01</td>\n",
       "      <td>4.384</td>\n",
       "      <td>2.294</td>\n",
       "      <td>Åland</td>\n",
       "      <td>1743-11-01</td>\n",
       "      <td>1743</td>\n",
       "    </tr>\n",
       "    <tr>\n",
       "      <th>5</th>\n",
       "      <td>1744-04-01</td>\n",
       "      <td>1.530</td>\n",
       "      <td>4.680</td>\n",
       "      <td>Åland</td>\n",
       "      <td>1744-04-01</td>\n",
       "      <td>1744</td>\n",
       "    </tr>\n",
       "    <tr>\n",
       "      <th>6</th>\n",
       "      <td>1744-05-01</td>\n",
       "      <td>6.702</td>\n",
       "      <td>1.789</td>\n",
       "      <td>Åland</td>\n",
       "      <td>1744-05-01</td>\n",
       "      <td>1744</td>\n",
       "    </tr>\n",
       "    <tr>\n",
       "      <th>7</th>\n",
       "      <td>1744-06-01</td>\n",
       "      <td>11.609</td>\n",
       "      <td>1.577</td>\n",
       "      <td>Åland</td>\n",
       "      <td>1744-06-01</td>\n",
       "      <td>1744</td>\n",
       "    </tr>\n",
       "    <tr>\n",
       "      <th>8</th>\n",
       "      <td>1744-07-01</td>\n",
       "      <td>15.342</td>\n",
       "      <td>1.410</td>\n",
       "      <td>Åland</td>\n",
       "      <td>1744-07-01</td>\n",
       "      <td>1744</td>\n",
       "    </tr>\n",
       "  </tbody>\n",
       "</table>\n",
       "</div>"
      ],
      "text/plain": [
       "           dt  AverageTemperature  AverageTemperatureUncertainty Country  \\\n",
       "0  1743-11-01               4.384                          2.294   Åland   \n",
       "5  1744-04-01               1.530                          4.680   Åland   \n",
       "6  1744-05-01               6.702                          1.789   Åland   \n",
       "7  1744-06-01              11.609                          1.577   Åland   \n",
       "8  1744-07-01              15.342                          1.410   Åland   \n",
       "\n",
       "        date  year  \n",
       "0 1743-11-01  1743  \n",
       "5 1744-04-01  1744  \n",
       "6 1744-05-01  1744  \n",
       "7 1744-06-01  1744  \n",
       "8 1744-07-01  1744  "
      ]
     },
     "execution_count": 360,
     "metadata": {},
     "output_type": "execute_result"
    }
   ],
   "source": [
    "# Removing null values\n",
    "data = temp.dropna()\n",
    "data.head()"
   ]
  },
  {
   "cell_type": "code",
   "execution_count": 361,
   "id": "9ae9e227",
   "metadata": {},
   "outputs": [
    {
     "data": {
      "text/html": [
       "<div>\n",
       "<style scoped>\n",
       "    .dataframe tbody tr th:only-of-type {\n",
       "        vertical-align: middle;\n",
       "    }\n",
       "\n",
       "    .dataframe tbody tr th {\n",
       "        vertical-align: top;\n",
       "    }\n",
       "\n",
       "    .dataframe thead th {\n",
       "        text-align: right;\n",
       "    }\n",
       "</style>\n",
       "<table border=\"1\" class=\"dataframe\">\n",
       "  <thead>\n",
       "    <tr style=\"text-align: right;\">\n",
       "      <th></th>\n",
       "      <th>year</th>\n",
       "      <th>AverageTemperature</th>\n",
       "      <th>Country</th>\n",
       "    </tr>\n",
       "  </thead>\n",
       "  <tbody>\n",
       "    <tr>\n",
       "      <th>0</th>\n",
       "      <td>1743</td>\n",
       "      <td>4.384</td>\n",
       "      <td>Åland</td>\n",
       "    </tr>\n",
       "    <tr>\n",
       "      <th>5</th>\n",
       "      <td>1744</td>\n",
       "      <td>1.530</td>\n",
       "      <td>Åland</td>\n",
       "    </tr>\n",
       "    <tr>\n",
       "      <th>6</th>\n",
       "      <td>1744</td>\n",
       "      <td>6.702</td>\n",
       "      <td>Åland</td>\n",
       "    </tr>\n",
       "    <tr>\n",
       "      <th>7</th>\n",
       "      <td>1744</td>\n",
       "      <td>11.609</td>\n",
       "      <td>Åland</td>\n",
       "    </tr>\n",
       "    <tr>\n",
       "      <th>8</th>\n",
       "      <td>1744</td>\n",
       "      <td>15.342</td>\n",
       "      <td>Åland</td>\n",
       "    </tr>\n",
       "  </tbody>\n",
       "</table>\n",
       "</div>"
      ],
      "text/plain": [
       "   year  AverageTemperature Country\n",
       "0  1743               4.384   Åland\n",
       "5  1744               1.530   Åland\n",
       "6  1744               6.702   Åland\n",
       "7  1744              11.609   Åland\n",
       "8  1744              15.342   Åland"
      ]
     },
     "execution_count": 361,
     "metadata": {},
     "output_type": "execute_result"
    }
   ],
   "source": [
    "# creating a new dataframe with only required columns\n",
    "df = data[['year', 'AverageTemperature', 'Country']]\n",
    "df.head()"
   ]
  },
  {
   "cell_type": "code",
   "execution_count": 362,
   "id": "09e3947e",
   "metadata": {},
   "outputs": [
    {
     "data": {
      "text/html": [
       "<div>\n",
       "<style scoped>\n",
       "    .dataframe tbody tr th:only-of-type {\n",
       "        vertical-align: middle;\n",
       "    }\n",
       "\n",
       "    .dataframe tbody tr th {\n",
       "        vertical-align: top;\n",
       "    }\n",
       "\n",
       "    .dataframe thead th {\n",
       "        text-align: right;\n",
       "    }\n",
       "</style>\n",
       "<table border=\"1\" class=\"dataframe\">\n",
       "  <thead>\n",
       "    <tr style=\"text-align: right;\">\n",
       "      <th></th>\n",
       "      <th>year</th>\n",
       "      <th>Country</th>\n",
       "      <th>mean</th>\n",
       "      <th>median</th>\n",
       "      <th>max</th>\n",
       "      <th>min</th>\n",
       "      <th>var</th>\n",
       "    </tr>\n",
       "  </thead>\n",
       "  <tbody>\n",
       "    <tr>\n",
       "      <th>0</th>\n",
       "      <td>1970</td>\n",
       "      <td>Afghanistan</td>\n",
       "      <td>14.783083</td>\n",
       "      <td>15.4710</td>\n",
       "      <td>26.862</td>\n",
       "      <td>1.337</td>\n",
       "      <td>88.552117</td>\n",
       "    </tr>\n",
       "    <tr>\n",
       "      <th>1</th>\n",
       "      <td>1970</td>\n",
       "      <td>Africa</td>\n",
       "      <td>24.321583</td>\n",
       "      <td>25.0370</td>\n",
       "      <td>25.910</td>\n",
       "      <td>20.988</td>\n",
       "      <td>2.772779</td>\n",
       "    </tr>\n",
       "    <tr>\n",
       "      <th>2</th>\n",
       "      <td>1970</td>\n",
       "      <td>Albania</td>\n",
       "      <td>12.839667</td>\n",
       "      <td>12.1245</td>\n",
       "      <td>22.264</td>\n",
       "      <td>5.172</td>\n",
       "      <td>42.221893</td>\n",
       "    </tr>\n",
       "    <tr>\n",
       "      <th>3</th>\n",
       "      <td>1970</td>\n",
       "      <td>Algeria</td>\n",
       "      <td>23.322833</td>\n",
       "      <td>22.5930</td>\n",
       "      <td>33.709</td>\n",
       "      <td>13.013</td>\n",
       "      <td>57.599106</td>\n",
       "    </tr>\n",
       "    <tr>\n",
       "      <th>4</th>\n",
       "      <td>1970</td>\n",
       "      <td>American Samoa</td>\n",
       "      <td>26.760667</td>\n",
       "      <td>26.8540</td>\n",
       "      <td>27.678</td>\n",
       "      <td>25.896</td>\n",
       "      <td>0.406978</td>\n",
       "    </tr>\n",
       "    <tr>\n",
       "      <th>...</th>\n",
       "      <td>...</td>\n",
       "      <td>...</td>\n",
       "      <td>...</td>\n",
       "      <td>...</td>\n",
       "      <td>...</td>\n",
       "      <td>...</td>\n",
       "      <td>...</td>\n",
       "    </tr>\n",
       "    <tr>\n",
       "      <th>10643</th>\n",
       "      <td>2013</td>\n",
       "      <td>Western Sahara</td>\n",
       "      <td>23.744250</td>\n",
       "      <td>24.2745</td>\n",
       "      <td>28.564</td>\n",
       "      <td>17.461</td>\n",
       "      <td>16.122841</td>\n",
       "    </tr>\n",
       "    <tr>\n",
       "      <th>10644</th>\n",
       "      <td>2013</td>\n",
       "      <td>Yemen</td>\n",
       "      <td>28.129750</td>\n",
       "      <td>30.0215</td>\n",
       "      <td>32.325</td>\n",
       "      <td>21.567</td>\n",
       "      <td>16.993068</td>\n",
       "    </tr>\n",
       "    <tr>\n",
       "      <th>10645</th>\n",
       "      <td>2013</td>\n",
       "      <td>Zambia</td>\n",
       "      <td>21.196000</td>\n",
       "      <td>21.2985</td>\n",
       "      <td>23.636</td>\n",
       "      <td>18.266</td>\n",
       "      <td>4.310316</td>\n",
       "    </tr>\n",
       "    <tr>\n",
       "      <th>10646</th>\n",
       "      <td>2013</td>\n",
       "      <td>Zimbabwe</td>\n",
       "      <td>20.710750</td>\n",
       "      <td>20.4505</td>\n",
       "      <td>24.075</td>\n",
       "      <td>17.000</td>\n",
       "      <td>7.778317</td>\n",
       "    </tr>\n",
       "    <tr>\n",
       "      <th>10647</th>\n",
       "      <td>2013</td>\n",
       "      <td>Åland</td>\n",
       "      <td>6.229750</td>\n",
       "      <td>6.0140</td>\n",
       "      <td>16.447</td>\n",
       "      <td>-4.779</td>\n",
       "      <td>81.409890</td>\n",
       "    </tr>\n",
       "  </tbody>\n",
       "</table>\n",
       "<p>10648 rows × 7 columns</p>\n",
       "</div>"
      ],
      "text/plain": [
       "       year         Country       mean   median     max     min        var\n",
       "0      1970     Afghanistan  14.783083  15.4710  26.862   1.337  88.552117\n",
       "1      1970          Africa  24.321583  25.0370  25.910  20.988   2.772779\n",
       "2      1970         Albania  12.839667  12.1245  22.264   5.172  42.221893\n",
       "3      1970         Algeria  23.322833  22.5930  33.709  13.013  57.599106\n",
       "4      1970  American Samoa  26.760667  26.8540  27.678  25.896   0.406978\n",
       "...     ...             ...        ...      ...     ...     ...        ...\n",
       "10643  2013  Western Sahara  23.744250  24.2745  28.564  17.461  16.122841\n",
       "10644  2013           Yemen  28.129750  30.0215  32.325  21.567  16.993068\n",
       "10645  2013          Zambia  21.196000  21.2985  23.636  18.266   4.310316\n",
       "10646  2013        Zimbabwe  20.710750  20.4505  24.075  17.000   7.778317\n",
       "10647  2013           Åland   6.229750   6.0140  16.447  -4.779  81.409890\n",
       "\n",
       "[10648 rows x 7 columns]"
      ]
     },
     "execution_count": 362,
     "metadata": {},
     "output_type": "execute_result"
    }
   ],
   "source": [
    "# Getting the data with records that are from 1970\n",
    "df1 = df[df['year']>1969]\n",
    "final_df = df1.groupby(['year', 'Country'])['AverageTemperature'].agg(['mean','median', 'max', 'min', 'var']).reset_index()\n",
    "final_df"
   ]
  },
  {
   "cell_type": "markdown",
   "id": "da9188ad",
   "metadata": {},
   "source": [
    "##### Green House Gases emissions worksheet contains 6 sheets. So creating a separate dataframes of each sheet."
   ]
  },
  {
   "cell_type": "markdown",
   "id": "57407397",
   "metadata": {},
   "source": [
    "## CO2 emission "
   ]
  },
  {
   "cell_type": "code",
   "execution_count": 363,
   "id": "92887e28",
   "metadata": {},
   "outputs": [
    {
     "data": {
      "text/html": [
       "<div>\n",
       "<style scoped>\n",
       "    .dataframe tbody tr th:only-of-type {\n",
       "        vertical-align: middle;\n",
       "    }\n",
       "\n",
       "    .dataframe tbody tr th {\n",
       "        vertical-align: top;\n",
       "    }\n",
       "\n",
       "    .dataframe thead th {\n",
       "        text-align: right;\n",
       "    }\n",
       "</style>\n",
       "<table border=\"1\" class=\"dataframe\">\n",
       "  <thead>\n",
       "    <tr style=\"text-align: right;\">\n",
       "      <th></th>\n",
       "      <th>year</th>\n",
       "      <th>Country</th>\n",
       "      <th>mean_temp</th>\n",
       "      <th>median_temp</th>\n",
       "      <th>max_temp</th>\n",
       "      <th>min_temp</th>\n",
       "      <th>variance_temp</th>\n",
       "      <th>emission</th>\n",
       "    </tr>\n",
       "  </thead>\n",
       "  <tbody>\n",
       "    <tr>\n",
       "      <th>0</th>\n",
       "      <td>1970</td>\n",
       "      <td>Afghanistan</td>\n",
       "      <td>14.783083</td>\n",
       "      <td>15.4710</td>\n",
       "      <td>26.862</td>\n",
       "      <td>1.337</td>\n",
       "      <td>88.552117</td>\n",
       "      <td>1.718206</td>\n",
       "    </tr>\n",
       "    <tr>\n",
       "      <th>1</th>\n",
       "      <td>1970</td>\n",
       "      <td>Albania</td>\n",
       "      <td>12.839667</td>\n",
       "      <td>12.1245</td>\n",
       "      <td>22.264</td>\n",
       "      <td>5.172</td>\n",
       "      <td>42.221893</td>\n",
       "      <td>4.813550</td>\n",
       "    </tr>\n",
       "    <tr>\n",
       "      <th>2</th>\n",
       "      <td>1970</td>\n",
       "      <td>Algeria</td>\n",
       "      <td>23.322833</td>\n",
       "      <td>22.5930</td>\n",
       "      <td>33.709</td>\n",
       "      <td>13.013</td>\n",
       "      <td>57.599106</td>\n",
       "      <td>18.931573</td>\n",
       "    </tr>\n",
       "    <tr>\n",
       "      <th>3</th>\n",
       "      <td>1970</td>\n",
       "      <td>Angola</td>\n",
       "      <td>22.149833</td>\n",
       "      <td>23.0415</td>\n",
       "      <td>23.493</td>\n",
       "      <td>19.110</td>\n",
       "      <td>2.719536</td>\n",
       "      <td>8.952568</td>\n",
       "    </tr>\n",
       "    <tr>\n",
       "      <th>4</th>\n",
       "      <td>1970</td>\n",
       "      <td>Anguilla</td>\n",
       "      <td>26.916167</td>\n",
       "      <td>27.0115</td>\n",
       "      <td>28.200</td>\n",
       "      <td>25.549</td>\n",
       "      <td>1.086153</td>\n",
       "      <td>0.002168</td>\n",
       "    </tr>\n",
       "  </tbody>\n",
       "</table>\n",
       "</div>"
      ],
      "text/plain": [
       "   year      Country  mean_temp  median_temp  max_temp  min_temp  \\\n",
       "0  1970  Afghanistan  14.783083      15.4710    26.862     1.337   \n",
       "1  1970      Albania  12.839667      12.1245    22.264     5.172   \n",
       "2  1970      Algeria  23.322833      22.5930    33.709    13.013   \n",
       "3  1970       Angola  22.149833      23.0415    23.493    19.110   \n",
       "4  1970     Anguilla  26.916167      27.0115    28.200    25.549   \n",
       "\n",
       "   variance_temp   emission  \n",
       "0      88.552117   1.718206  \n",
       "1      42.221893   4.813550  \n",
       "2      57.599106  18.931573  \n",
       "3       2.719536   8.952568  \n",
       "4       1.086153   0.002168  "
      ]
     },
     "execution_count": 363,
     "metadata": {},
     "output_type": "execute_result"
    }
   ],
   "source": [
    "# Creating a total co2 emission data frame\n",
    "co2 = pd.read_excel('ghg.xls', sheet_name = 'fossil_CO2_totals_by_country')\n",
    "co2_pivot = pd.melt(co2, id_vars = ['Country'], value_vars = [1970,      1971,      1972,      1973,      1974,\n",
    "            1975,      1976,      1977,      1978,      1979,      1980,\n",
    "            1981,      1982,      1983,      1984,      1985,      1986,\n",
    "            1987,      1988,      1989,      1990,      1991,      1992,\n",
    "            1993,      1994,      1995,      1996,      1997,      1998,\n",
    "            1999,      2000,      2001,      2002,      2003,      2004,\n",
    "            2005,      2006,      2007,      2008,      2009,      2010,\n",
    "            2011,      2012,      2013,      2014,      2015,      2016,\n",
    "            2017,      2018,      2019,      2020], var_name = 'year', value_name = 'emission')\n",
    "co2_data =  pd.merge(final_df, co2_pivot, on = ['Country', 'year'], how=\"inner\")\n",
    "co2_data = co2_data.rename(columns = {'mean':'mean_temp','min':'min_temp', 'median':'median_temp', 'max':'max_temp', 'var':'variance_temp'})\n",
    "co2_data.head()"
   ]
  },
  {
   "cell_type": "code",
   "execution_count": 364,
   "id": "4cef53f0",
   "metadata": {},
   "outputs": [],
   "source": [
    "# Exporting to csv file of above dataframe\n",
    "co2_data.to_csv('co2_emission.csv')"
   ]
  },
  {
   "cell_type": "markdown",
   "id": "05be4eca",
   "metadata": {},
   "source": [
    "## Co2 emission per sector "
   ]
  },
  {
   "cell_type": "code",
   "execution_count": 365,
   "id": "77725122",
   "metadata": {
    "scrolled": true
   },
   "outputs": [
    {
     "data": {
      "text/html": [
       "<div>\n",
       "<style scoped>\n",
       "    .dataframe tbody tr th:only-of-type {\n",
       "        vertical-align: middle;\n",
       "    }\n",
       "\n",
       "    .dataframe tbody tr th {\n",
       "        vertical-align: top;\n",
       "    }\n",
       "\n",
       "    .dataframe thead th {\n",
       "        text-align: right;\n",
       "    }\n",
       "</style>\n",
       "<table border=\"1\" class=\"dataframe\">\n",
       "  <thead>\n",
       "    <tr style=\"text-align: right;\">\n",
       "      <th></th>\n",
       "      <th>year</th>\n",
       "      <th>Country</th>\n",
       "      <th>mean_temp</th>\n",
       "      <th>median_temp</th>\n",
       "      <th>max_temp</th>\n",
       "      <th>min_temp</th>\n",
       "      <th>variance_temp</th>\n",
       "      <th>Sector</th>\n",
       "      <th>emission</th>\n",
       "    </tr>\n",
       "  </thead>\n",
       "  <tbody>\n",
       "    <tr>\n",
       "      <th>0</th>\n",
       "      <td>1970</td>\n",
       "      <td>Afghanistan</td>\n",
       "      <td>14.783083</td>\n",
       "      <td>15.471</td>\n",
       "      <td>26.862</td>\n",
       "      <td>1.337</td>\n",
       "      <td>88.552117</td>\n",
       "      <td>Power Industry</td>\n",
       "      <td>0.055674</td>\n",
       "    </tr>\n",
       "    <tr>\n",
       "      <th>1</th>\n",
       "      <td>1970</td>\n",
       "      <td>Afghanistan</td>\n",
       "      <td>14.783083</td>\n",
       "      <td>15.471</td>\n",
       "      <td>26.862</td>\n",
       "      <td>1.337</td>\n",
       "      <td>88.552117</td>\n",
       "      <td>Buildings</td>\n",
       "      <td>0.789134</td>\n",
       "    </tr>\n",
       "    <tr>\n",
       "      <th>2</th>\n",
       "      <td>1970</td>\n",
       "      <td>Afghanistan</td>\n",
       "      <td>14.783083</td>\n",
       "      <td>15.471</td>\n",
       "      <td>26.862</td>\n",
       "      <td>1.337</td>\n",
       "      <td>88.552117</td>\n",
       "      <td>Transport</td>\n",
       "      <td>0.228480</td>\n",
       "    </tr>\n",
       "    <tr>\n",
       "      <th>3</th>\n",
       "      <td>1970</td>\n",
       "      <td>Afghanistan</td>\n",
       "      <td>14.783083</td>\n",
       "      <td>15.471</td>\n",
       "      <td>26.862</td>\n",
       "      <td>1.337</td>\n",
       "      <td>88.552117</td>\n",
       "      <td>Other industrial combustion</td>\n",
       "      <td>0.102457</td>\n",
       "    </tr>\n",
       "    <tr>\n",
       "      <th>4</th>\n",
       "      <td>1970</td>\n",
       "      <td>Afghanistan</td>\n",
       "      <td>14.783083</td>\n",
       "      <td>15.471</td>\n",
       "      <td>26.862</td>\n",
       "      <td>1.337</td>\n",
       "      <td>88.552117</td>\n",
       "      <td>Other sectors</td>\n",
       "      <td>0.542460</td>\n",
       "    </tr>\n",
       "  </tbody>\n",
       "</table>\n",
       "</div>"
      ],
      "text/plain": [
       "   year      Country  mean_temp  median_temp  max_temp  min_temp  \\\n",
       "0  1970  Afghanistan  14.783083       15.471    26.862     1.337   \n",
       "1  1970  Afghanistan  14.783083       15.471    26.862     1.337   \n",
       "2  1970  Afghanistan  14.783083       15.471    26.862     1.337   \n",
       "3  1970  Afghanistan  14.783083       15.471    26.862     1.337   \n",
       "4  1970  Afghanistan  14.783083       15.471    26.862     1.337   \n",
       "\n",
       "   variance_temp                       Sector  emission  \n",
       "0      88.552117               Power Industry  0.055674  \n",
       "1      88.552117                    Buildings  0.789134  \n",
       "2      88.552117                    Transport  0.228480  \n",
       "3      88.552117  Other industrial combustion  0.102457  \n",
       "4      88.552117                Other sectors  0.542460  "
      ]
     },
     "execution_count": 365,
     "metadata": {},
     "output_type": "execute_result"
    }
   ],
   "source": [
    "# Creating a co2 emission per sector data frame\n",
    "co2_by_sec = pd.read_excel('ghg.xls', sheet_name = 'fossil_CO2_by_sector_and_countr')\n",
    "co2_by_sec =pd.melt(co2_by_sec, id_vars = ['Sector','Country'], value_vars = [1970,      1971,      1972,      1973,      1974,\n",
    "            1975,      1976,      1977,      1978,      1979,      1980,\n",
    "            1981,      1982,      1983,      1984,      1985,      1986,\n",
    "            1987,      1988,      1989,      1990,      1991,      1992,\n",
    "            1993,      1994,      1995,      1996,      1997,      1998,\n",
    "            1999,      2000,      2001,      2002,      2003,      2004,\n",
    "            2005,      2006,      2007,      2008,      2009,      2010,\n",
    "            2011,      2012,      2013,      2014,      2015,      2016,\n",
    "            2017,      2018,      2019,      2020], var_name = 'year', value_name = 'emission')\n",
    "co2_by_sector_df = pd.merge(final_df, co2_by_sec, on = ['Country', 'year'], how=\"inner\")\n",
    "co2_by_sector_df = co2_by_sector_df.rename(columns = {'mean':'mean_temp', 'min':'min_temp','median':'median_temp', 'max':'max_temp', 'var':'variance_temp'})\n",
    "co2_by_sector_df.head()"
   ]
  },
  {
   "cell_type": "code",
   "execution_count": 366,
   "id": "e10cc726",
   "metadata": {},
   "outputs": [],
   "source": [
    "# Exporting to csv file of above dataframe\n",
    "co2_by_sector_df.to_csv('co2_emission_per_sector.csv')"
   ]
  },
  {
   "cell_type": "markdown",
   "id": "4e9295b0",
   "metadata": {},
   "source": [
    "## Co2_emission_per_captia"
   ]
  },
  {
   "cell_type": "code",
   "execution_count": 367,
   "id": "900c0540",
   "metadata": {
    "scrolled": true
   },
   "outputs": [
    {
     "data": {
      "text/html": [
       "<div>\n",
       "<style scoped>\n",
       "    .dataframe tbody tr th:only-of-type {\n",
       "        vertical-align: middle;\n",
       "    }\n",
       "\n",
       "    .dataframe tbody tr th {\n",
       "        vertical-align: top;\n",
       "    }\n",
       "\n",
       "    .dataframe thead th {\n",
       "        text-align: right;\n",
       "    }\n",
       "</style>\n",
       "<table border=\"1\" class=\"dataframe\">\n",
       "  <thead>\n",
       "    <tr style=\"text-align: right;\">\n",
       "      <th></th>\n",
       "      <th>year</th>\n",
       "      <th>Country</th>\n",
       "      <th>mean_temp</th>\n",
       "      <th>median_temp</th>\n",
       "      <th>max_temp</th>\n",
       "      <th>min_temp</th>\n",
       "      <th>variance_temp</th>\n",
       "      <th>emission</th>\n",
       "    </tr>\n",
       "  </thead>\n",
       "  <tbody>\n",
       "    <tr>\n",
       "      <th>0</th>\n",
       "      <td>1970</td>\n",
       "      <td>Afghanistan</td>\n",
       "      <td>14.783083</td>\n",
       "      <td>15.4710</td>\n",
       "      <td>26.862</td>\n",
       "      <td>1.337</td>\n",
       "      <td>88.552117</td>\n",
       "      <td>0.154430</td>\n",
       "    </tr>\n",
       "    <tr>\n",
       "      <th>1</th>\n",
       "      <td>1970</td>\n",
       "      <td>Albania</td>\n",
       "      <td>12.839667</td>\n",
       "      <td>12.1245</td>\n",
       "      <td>22.264</td>\n",
       "      <td>5.172</td>\n",
       "      <td>42.221893</td>\n",
       "      <td>2.238236</td>\n",
       "    </tr>\n",
       "    <tr>\n",
       "      <th>2</th>\n",
       "      <td>1970</td>\n",
       "      <td>Algeria</td>\n",
       "      <td>23.322833</td>\n",
       "      <td>22.5930</td>\n",
       "      <td>33.709</td>\n",
       "      <td>13.013</td>\n",
       "      <td>57.599106</td>\n",
       "      <td>1.301139</td>\n",
       "    </tr>\n",
       "    <tr>\n",
       "      <th>3</th>\n",
       "      <td>1970</td>\n",
       "      <td>Angola</td>\n",
       "      <td>22.149833</td>\n",
       "      <td>23.0415</td>\n",
       "      <td>23.493</td>\n",
       "      <td>19.110</td>\n",
       "      <td>2.719536</td>\n",
       "      <td>1.321143</td>\n",
       "    </tr>\n",
       "    <tr>\n",
       "      <th>4</th>\n",
       "      <td>1970</td>\n",
       "      <td>Anguilla</td>\n",
       "      <td>26.916167</td>\n",
       "      <td>27.0115</td>\n",
       "      <td>28.200</td>\n",
       "      <td>25.549</td>\n",
       "      <td>1.086153</td>\n",
       "      <td>0.338637</td>\n",
       "    </tr>\n",
       "  </tbody>\n",
       "</table>\n",
       "</div>"
      ],
      "text/plain": [
       "   year      Country  mean_temp  median_temp  max_temp  min_temp  \\\n",
       "0  1970  Afghanistan  14.783083      15.4710    26.862     1.337   \n",
       "1  1970      Albania  12.839667      12.1245    22.264     5.172   \n",
       "2  1970      Algeria  23.322833      22.5930    33.709    13.013   \n",
       "3  1970       Angola  22.149833      23.0415    23.493    19.110   \n",
       "4  1970     Anguilla  26.916167      27.0115    28.200    25.549   \n",
       "\n",
       "   variance_temp  emission  \n",
       "0      88.552117  0.154430  \n",
       "1      42.221893  2.238236  \n",
       "2      57.599106  1.301139  \n",
       "3       2.719536  1.321143  \n",
       "4       1.086153  0.338637  "
      ]
     },
     "execution_count": 367,
     "metadata": {},
     "output_type": "execute_result"
    }
   ],
   "source": [
    "# Creating a total co2 emission per captia data frame\n",
    "co2_per_captia = pd.read_excel('ghg.xls', sheet_name = 'fossil_CO2_per_capita_by_countr')\n",
    "co2_by_captia =pd.melt(co2_per_captia, id_vars = ['Country'], value_vars = [1970,      1971,      1972,      1973,      1974,\n",
    "            1975,      1976,      1977,      1978,      1979,      1980,\n",
    "            1981,      1982,      1983,      1984,      1985,      1986,\n",
    "            1987,      1988,      1989,      1990,      1991,      1992,\n",
    "            1993,      1994,      1995,      1996,      1997,      1998,\n",
    "            1999,      2000,      2001,      2002,      2003,      2004,\n",
    "            2005,      2006,      2007,      2008,      2009,      2010,\n",
    "            2011,      2012,      2013,      2014,      2015,      2016,\n",
    "            2017,      2018,      2019,      2020], var_name = 'year', value_name = 'emission')\n",
    "co2_per_captia_df = pd.merge(final_df, co2_by_captia, on = ['Country', 'year'], how=\"inner\")\n",
    "co2_per_captia_df = co2_per_captia_df.rename(columns = {'mean':'mean_temp', 'min':'min_temp','median':'median_temp', 'max':'max_temp', 'var':'variance_temp'})\n",
    "co2_per_captia_df.head()"
   ]
  },
  {
   "cell_type": "code",
   "execution_count": 368,
   "id": "74d6c131",
   "metadata": {},
   "outputs": [],
   "source": [
    "# Exporting to csv file of above dataframe\n",
    "co2_per_captia_df.to_csv('co2_emission_per_captia.csv')"
   ]
  },
  {
   "cell_type": "markdown",
   "id": "46bfd135",
   "metadata": {},
   "source": [
    "## Total Green House Gas Emissions per Country"
   ]
  },
  {
   "cell_type": "code",
   "execution_count": 369,
   "id": "eef1d086",
   "metadata": {},
   "outputs": [
    {
     "data": {
      "text/html": [
       "<div>\n",
       "<style scoped>\n",
       "    .dataframe tbody tr th:only-of-type {\n",
       "        vertical-align: middle;\n",
       "    }\n",
       "\n",
       "    .dataframe tbody tr th {\n",
       "        vertical-align: top;\n",
       "    }\n",
       "\n",
       "    .dataframe thead th {\n",
       "        text-align: right;\n",
       "    }\n",
       "</style>\n",
       "<table border=\"1\" class=\"dataframe\">\n",
       "  <thead>\n",
       "    <tr style=\"text-align: right;\">\n",
       "      <th></th>\n",
       "      <th>year</th>\n",
       "      <th>Country</th>\n",
       "      <th>mean_temp</th>\n",
       "      <th>median_temp</th>\n",
       "      <th>max_temp</th>\n",
       "      <th>min_temp</th>\n",
       "      <th>variance_temp</th>\n",
       "      <th>emission</th>\n",
       "    </tr>\n",
       "  </thead>\n",
       "  <tbody>\n",
       "    <tr>\n",
       "      <th>0</th>\n",
       "      <td>1970</td>\n",
       "      <td>Afghanistan</td>\n",
       "      <td>14.783083</td>\n",
       "      <td>15.4710</td>\n",
       "      <td>26.862</td>\n",
       "      <td>1.337</td>\n",
       "      <td>88.552117</td>\n",
       "      <td>16.269661</td>\n",
       "    </tr>\n",
       "    <tr>\n",
       "      <th>1</th>\n",
       "      <td>1970</td>\n",
       "      <td>Albania</td>\n",
       "      <td>12.839667</td>\n",
       "      <td>12.1245</td>\n",
       "      <td>22.264</td>\n",
       "      <td>5.172</td>\n",
       "      <td>42.221893</td>\n",
       "      <td>7.942808</td>\n",
       "    </tr>\n",
       "    <tr>\n",
       "      <th>2</th>\n",
       "      <td>1970</td>\n",
       "      <td>Algeria</td>\n",
       "      <td>23.322833</td>\n",
       "      <td>22.5930</td>\n",
       "      <td>33.709</td>\n",
       "      <td>13.013</td>\n",
       "      <td>57.599106</td>\n",
       "      <td>51.542009</td>\n",
       "    </tr>\n",
       "    <tr>\n",
       "      <th>3</th>\n",
       "      <td>1970</td>\n",
       "      <td>Angola</td>\n",
       "      <td>22.149833</td>\n",
       "      <td>23.0415</td>\n",
       "      <td>23.493</td>\n",
       "      <td>19.110</td>\n",
       "      <td>2.719536</td>\n",
       "      <td>18.985437</td>\n",
       "    </tr>\n",
       "    <tr>\n",
       "      <th>4</th>\n",
       "      <td>1970</td>\n",
       "      <td>Anguilla</td>\n",
       "      <td>26.916167</td>\n",
       "      <td>27.0115</td>\n",
       "      <td>28.200</td>\n",
       "      <td>25.549</td>\n",
       "      <td>1.086153</td>\n",
       "      <td>0.004399</td>\n",
       "    </tr>\n",
       "  </tbody>\n",
       "</table>\n",
       "</div>"
      ],
      "text/plain": [
       "   year      Country  mean_temp  median_temp  max_temp  min_temp  \\\n",
       "0  1970  Afghanistan  14.783083      15.4710    26.862     1.337   \n",
       "1  1970      Albania  12.839667      12.1245    22.264     5.172   \n",
       "2  1970      Algeria  23.322833      22.5930    33.709    13.013   \n",
       "3  1970       Angola  22.149833      23.0415    23.493    19.110   \n",
       "4  1970     Anguilla  26.916167      27.0115    28.200    25.549   \n",
       "\n",
       "   variance_temp   emission  \n",
       "0      88.552117  16.269661  \n",
       "1      42.221893   7.942808  \n",
       "2      57.599106  51.542009  \n",
       "3       2.719536  18.985437  \n",
       "4       1.086153   0.004399  "
      ]
     },
     "execution_count": 369,
     "metadata": {},
     "output_type": "execute_result"
    }
   ],
   "source": [
    "# Creating a total ghg emission data frame\n",
    "ghg_total = pd.read_excel('ghg.xls', sheet_name = 'GHG_totals_by_country')\n",
    "ghg_total =pd.melt(ghg_total, id_vars = ['Country'], value_vars = [1970,      1971,      1972,      1973,      1974,\n",
    "            1975,      1976,      1977,      1978,      1979,      1980,\n",
    "            1981,      1982,      1983,      1984,      1985,      1986,\n",
    "            1987,      1988,      1989,      1990,      1991,      1992,\n",
    "            1993,      1994,      1995,      1996,      1997,      1998,\n",
    "            1999,      2000,      2001,      2002,      2003,      2004,\n",
    "            2005,      2006,      2007,      2008,      2009,      2010,\n",
    "            2011,      2012,      2013,      2014,      2015,      2016,\n",
    "            2017,      2018], var_name = 'year', value_name = 'emission')\n",
    "ghg_total_df = pd.merge(final_df, ghg_total, on = ['Country', 'year'], how=\"inner\")\n",
    "ghg_total_df = ghg_total_df.rename(columns = {'mean':'mean_temp','min':'min_temp', 'median':'median_temp', 'max':'max_temp', 'var':'variance_temp'})\n",
    "ghg_total_df.head()"
   ]
  },
  {
   "cell_type": "code",
   "execution_count": 370,
   "id": "840dc5d7",
   "metadata": {},
   "outputs": [],
   "source": [
    "# Exporting to csv file of above dataframe\n",
    "ghg_total_df.to_csv('ghg_emissions.csv')"
   ]
  },
  {
   "cell_type": "markdown",
   "id": "08c475b1",
   "metadata": {},
   "source": [
    "## Green House Gas Emission Per Sector"
   ]
  },
  {
   "cell_type": "code",
   "execution_count": 371,
   "id": "ebb4edeb",
   "metadata": {},
   "outputs": [
    {
     "data": {
      "text/html": [
       "<div>\n",
       "<style scoped>\n",
       "    .dataframe tbody tr th:only-of-type {\n",
       "        vertical-align: middle;\n",
       "    }\n",
       "\n",
       "    .dataframe tbody tr th {\n",
       "        vertical-align: top;\n",
       "    }\n",
       "\n",
       "    .dataframe thead th {\n",
       "        text-align: right;\n",
       "    }\n",
       "</style>\n",
       "<table border=\"1\" class=\"dataframe\">\n",
       "  <thead>\n",
       "    <tr style=\"text-align: right;\">\n",
       "      <th></th>\n",
       "      <th>year</th>\n",
       "      <th>Country</th>\n",
       "      <th>mean_temp</th>\n",
       "      <th>median_temp</th>\n",
       "      <th>max_temp</th>\n",
       "      <th>min_temp</th>\n",
       "      <th>variance_temp</th>\n",
       "      <th>Sector</th>\n",
       "      <th>emission</th>\n",
       "    </tr>\n",
       "  </thead>\n",
       "  <tbody>\n",
       "    <tr>\n",
       "      <th>0</th>\n",
       "      <td>1970</td>\n",
       "      <td>Afghanistan</td>\n",
       "      <td>14.783083</td>\n",
       "      <td>15.471</td>\n",
       "      <td>26.862</td>\n",
       "      <td>1.337</td>\n",
       "      <td>88.552117</td>\n",
       "      <td>Power Industry</td>\n",
       "      <td>0.055825</td>\n",
       "    </tr>\n",
       "    <tr>\n",
       "      <th>1</th>\n",
       "      <td>1970</td>\n",
       "      <td>Afghanistan</td>\n",
       "      <td>14.783083</td>\n",
       "      <td>15.471</td>\n",
       "      <td>26.862</td>\n",
       "      <td>1.337</td>\n",
       "      <td>88.552117</td>\n",
       "      <td>Buildings</td>\n",
       "      <td>0.816874</td>\n",
       "    </tr>\n",
       "    <tr>\n",
       "      <th>2</th>\n",
       "      <td>1970</td>\n",
       "      <td>Afghanistan</td>\n",
       "      <td>14.783083</td>\n",
       "      <td>15.471</td>\n",
       "      <td>26.862</td>\n",
       "      <td>1.337</td>\n",
       "      <td>88.552117</td>\n",
       "      <td>Transport</td>\n",
       "      <td>0.234186</td>\n",
       "    </tr>\n",
       "    <tr>\n",
       "      <th>3</th>\n",
       "      <td>1970</td>\n",
       "      <td>Afghanistan</td>\n",
       "      <td>14.783083</td>\n",
       "      <td>15.471</td>\n",
       "      <td>26.862</td>\n",
       "      <td>1.337</td>\n",
       "      <td>88.552117</td>\n",
       "      <td>Other industrial combustion</td>\n",
       "      <td>0.102993</td>\n",
       "    </tr>\n",
       "    <tr>\n",
       "      <th>4</th>\n",
       "      <td>1970</td>\n",
       "      <td>Afghanistan</td>\n",
       "      <td>14.783083</td>\n",
       "      <td>15.471</td>\n",
       "      <td>26.862</td>\n",
       "      <td>1.337</td>\n",
       "      <td>88.552117</td>\n",
       "      <td>Other sectors</td>\n",
       "      <td>15.059782</td>\n",
       "    </tr>\n",
       "  </tbody>\n",
       "</table>\n",
       "</div>"
      ],
      "text/plain": [
       "   year      Country  mean_temp  median_temp  max_temp  min_temp  \\\n",
       "0  1970  Afghanistan  14.783083       15.471    26.862     1.337   \n",
       "1  1970  Afghanistan  14.783083       15.471    26.862     1.337   \n",
       "2  1970  Afghanistan  14.783083       15.471    26.862     1.337   \n",
       "3  1970  Afghanistan  14.783083       15.471    26.862     1.337   \n",
       "4  1970  Afghanistan  14.783083       15.471    26.862     1.337   \n",
       "\n",
       "   variance_temp                       Sector   emission  \n",
       "0      88.552117               Power Industry   0.055825  \n",
       "1      88.552117                    Buildings   0.816874  \n",
       "2      88.552117                    Transport   0.234186  \n",
       "3      88.552117  Other industrial combustion   0.102993  \n",
       "4      88.552117                Other sectors  15.059782  "
      ]
     },
     "execution_count": 371,
     "metadata": {},
     "output_type": "execute_result"
    }
   ],
   "source": [
    "# Creating a total ghd emission per sector data frame\n",
    "ghg_per_sec = pd.read_excel('ghg.xls', sheet_name = 'GHG_by_sector_and_country')\n",
    "ghg_per_sec =pd.melt(ghg_per_sec, id_vars = ['Sector', 'Country'], value_vars = [1970,      1971,      1972,      1973,      1974,\n",
    "            1975,      1976,      1977,      1978,      1979,      1980,\n",
    "            1981,      1982,      1983,      1984,      1985,      1986,\n",
    "            1987,      1988,      1989,      1990,      1991,      1992,\n",
    "            1993,      1994,      1995,      1996,      1997,      1998,\n",
    "            1999,      2000,      2001,      2002,      2003,      2004,\n",
    "            2005,      2006,      2007,      2008,      2009,      2010,\n",
    "            2011,      2012,      2013,      2014,      2015,      2016,\n",
    "            2017,      2018], var_name = 'year', value_name = 'emission')\n",
    "ghg_per_sec_df = pd.merge(final_df, ghg_per_sec, on = ['Country', 'year'], how=\"inner\")\n",
    "ghg_per_sec_df = ghg_per_sec_df.rename(columns = {'mean':'mean_temp','min':'min_temp', 'median':'median_temp', 'max':'max_temp', 'var':'variance_temp'})\n",
    "ghg_per_sec_df.head()"
   ]
  },
  {
   "cell_type": "code",
   "execution_count": 372,
   "id": "d9ced997",
   "metadata": {},
   "outputs": [],
   "source": [
    "# Exporting to csv file of above dataframe\n",
    "ghg_per_sec_df.to_csv('ghg_emission_per_sector.csv')"
   ]
  },
  {
   "cell_type": "markdown",
   "id": "1ef5dd06",
   "metadata": {},
   "source": [
    "## Green House Gas Emission per Captia"
   ]
  },
  {
   "cell_type": "code",
   "execution_count": 373,
   "id": "5ffaaa9f",
   "metadata": {},
   "outputs": [
    {
     "data": {
      "text/html": [
       "<div>\n",
       "<style scoped>\n",
       "    .dataframe tbody tr th:only-of-type {\n",
       "        vertical-align: middle;\n",
       "    }\n",
       "\n",
       "    .dataframe tbody tr th {\n",
       "        vertical-align: top;\n",
       "    }\n",
       "\n",
       "    .dataframe thead th {\n",
       "        text-align: right;\n",
       "    }\n",
       "</style>\n",
       "<table border=\"1\" class=\"dataframe\">\n",
       "  <thead>\n",
       "    <tr style=\"text-align: right;\">\n",
       "      <th></th>\n",
       "      <th>year</th>\n",
       "      <th>Country</th>\n",
       "      <th>mean_temp</th>\n",
       "      <th>median_temp</th>\n",
       "      <th>max_temp</th>\n",
       "      <th>min_temp</th>\n",
       "      <th>variance_temp</th>\n",
       "      <th>emission</th>\n",
       "    </tr>\n",
       "  </thead>\n",
       "  <tbody>\n",
       "    <tr>\n",
       "      <th>0</th>\n",
       "      <td>1970</td>\n",
       "      <td>Afghanistan</td>\n",
       "      <td>14.783083</td>\n",
       "      <td>15.4710</td>\n",
       "      <td>26.862</td>\n",
       "      <td>1.337</td>\n",
       "      <td>88.552117</td>\n",
       "      <td>1.462297</td>\n",
       "    </tr>\n",
       "    <tr>\n",
       "      <th>1</th>\n",
       "      <td>1970</td>\n",
       "      <td>Albania</td>\n",
       "      <td>12.839667</td>\n",
       "      <td>12.1245</td>\n",
       "      <td>22.264</td>\n",
       "      <td>5.172</td>\n",
       "      <td>42.221893</td>\n",
       "      <td>3.693299</td>\n",
       "    </tr>\n",
       "    <tr>\n",
       "      <th>2</th>\n",
       "      <td>1970</td>\n",
       "      <td>Algeria</td>\n",
       "      <td>23.322833</td>\n",
       "      <td>22.5930</td>\n",
       "      <td>33.709</td>\n",
       "      <td>13.013</td>\n",
       "      <td>57.599106</td>\n",
       "      <td>3.542406</td>\n",
       "    </tr>\n",
       "    <tr>\n",
       "      <th>3</th>\n",
       "      <td>1970</td>\n",
       "      <td>Angola</td>\n",
       "      <td>22.149833</td>\n",
       "      <td>23.0415</td>\n",
       "      <td>23.493</td>\n",
       "      <td>19.110</td>\n",
       "      <td>2.719536</td>\n",
       "      <td>2.801708</td>\n",
       "    </tr>\n",
       "    <tr>\n",
       "      <th>4</th>\n",
       "      <td>1970</td>\n",
       "      <td>Anguilla</td>\n",
       "      <td>26.916167</td>\n",
       "      <td>27.0115</td>\n",
       "      <td>28.200</td>\n",
       "      <td>25.549</td>\n",
       "      <td>1.086153</td>\n",
       "      <td>0.686986</td>\n",
       "    </tr>\n",
       "  </tbody>\n",
       "</table>\n",
       "</div>"
      ],
      "text/plain": [
       "   year      Country  mean_temp  median_temp  max_temp  min_temp  \\\n",
       "0  1970  Afghanistan  14.783083      15.4710    26.862     1.337   \n",
       "1  1970      Albania  12.839667      12.1245    22.264     5.172   \n",
       "2  1970      Algeria  23.322833      22.5930    33.709    13.013   \n",
       "3  1970       Angola  22.149833      23.0415    23.493    19.110   \n",
       "4  1970     Anguilla  26.916167      27.0115    28.200    25.549   \n",
       "\n",
       "   variance_temp  emission  \n",
       "0      88.552117  1.462297  \n",
       "1      42.221893  3.693299  \n",
       "2      57.599106  3.542406  \n",
       "3       2.719536  2.801708  \n",
       "4       1.086153  0.686986  "
      ]
     },
     "execution_count": 373,
     "metadata": {},
     "output_type": "execute_result"
    }
   ],
   "source": [
    "# Creating a total ghg emission per captia data frame\n",
    "ghg_per_captia = pd.read_excel('ghg.xls', sheet_name = 'GHG_per_capita_by_country')\n",
    "ghg_per_captia = pd.melt(ghg_per_captia, id_vars = ['Country'], value_vars = [1970,      1971,      1972,      1973,      1974,\n",
    "            1975,      1976,      1977,      1978,      1979,      1980,\n",
    "            1981,      1982,      1983,      1984,      1985,      1986,\n",
    "            1987,      1988,      1989,      1990,      1991,      1992,\n",
    "            1993,      1994,      1995,      1996,      1997,      1998,\n",
    "            1999,      2000,      2001,      2002,      2003,      2004,\n",
    "            2005,      2006,      2007,      2008,      2009,      2010,\n",
    "            2011,      2012,      2013,      2014,      2015,      2016,\n",
    "            2017,      2018], var_name = 'year', value_name = 'emission')\n",
    "ghg_per_captia_df = pd.merge(final_df, ghg_per_captia, on = ['Country', 'year'], how=\"inner\")\n",
    "ghg_per_captia_df = ghg_per_captia_df.rename(columns = {'mean':'mean_temp','min':'min_temp', 'median':'median_temp', 'max':'max_temp', 'var':'variance_temp'})\n",
    "ghg_per_captia_df.head()"
   ]
  },
  {
   "cell_type": "code",
   "execution_count": 374,
   "id": "a54b787d",
   "metadata": {},
   "outputs": [],
   "source": [
    "# Exporting to csv file of above dataframe\n",
    "ghg_per_captia_df.to_csv('ghg_per_captia.csv')"
   ]
  },
  {
   "cell_type": "markdown",
   "id": "3ba44635",
   "metadata": {},
   "source": [
    "### CO2 Emission Analysis"
   ]
  },
  {
   "cell_type": "code",
   "execution_count": 375,
   "id": "96744a94",
   "metadata": {},
   "outputs": [
    {
     "data": {
      "text/html": [
       "<div>\n",
       "<style scoped>\n",
       "    .dataframe tbody tr th:only-of-type {\n",
       "        vertical-align: middle;\n",
       "    }\n",
       "\n",
       "    .dataframe tbody tr th {\n",
       "        vertical-align: top;\n",
       "    }\n",
       "\n",
       "    .dataframe thead th {\n",
       "        text-align: right;\n",
       "    }\n",
       "</style>\n",
       "<table border=\"1\" class=\"dataframe\">\n",
       "  <thead>\n",
       "    <tr style=\"text-align: right;\">\n",
       "      <th></th>\n",
       "      <th>year</th>\n",
       "      <th>Country</th>\n",
       "      <th>mean_temp</th>\n",
       "      <th>median_temp</th>\n",
       "      <th>max_temp</th>\n",
       "      <th>min_temp</th>\n",
       "      <th>variance_temp</th>\n",
       "      <th>emission</th>\n",
       "    </tr>\n",
       "  </thead>\n",
       "  <tbody>\n",
       "    <tr>\n",
       "      <th>0</th>\n",
       "      <td>1970</td>\n",
       "      <td>Afghanistan</td>\n",
       "      <td>14.783083</td>\n",
       "      <td>15.4710</td>\n",
       "      <td>26.862</td>\n",
       "      <td>1.337</td>\n",
       "      <td>88.552117</td>\n",
       "      <td>1.718206</td>\n",
       "    </tr>\n",
       "    <tr>\n",
       "      <th>1</th>\n",
       "      <td>1970</td>\n",
       "      <td>Albania</td>\n",
       "      <td>12.839667</td>\n",
       "      <td>12.1245</td>\n",
       "      <td>22.264</td>\n",
       "      <td>5.172</td>\n",
       "      <td>42.221893</td>\n",
       "      <td>4.813550</td>\n",
       "    </tr>\n",
       "    <tr>\n",
       "      <th>2</th>\n",
       "      <td>1970</td>\n",
       "      <td>Algeria</td>\n",
       "      <td>23.322833</td>\n",
       "      <td>22.5930</td>\n",
       "      <td>33.709</td>\n",
       "      <td>13.013</td>\n",
       "      <td>57.599106</td>\n",
       "      <td>18.931573</td>\n",
       "    </tr>\n",
       "    <tr>\n",
       "      <th>3</th>\n",
       "      <td>1970</td>\n",
       "      <td>Angola</td>\n",
       "      <td>22.149833</td>\n",
       "      <td>23.0415</td>\n",
       "      <td>23.493</td>\n",
       "      <td>19.110</td>\n",
       "      <td>2.719536</td>\n",
       "      <td>8.952568</td>\n",
       "    </tr>\n",
       "    <tr>\n",
       "      <th>4</th>\n",
       "      <td>1970</td>\n",
       "      <td>Anguilla</td>\n",
       "      <td>26.916167</td>\n",
       "      <td>27.0115</td>\n",
       "      <td>28.200</td>\n",
       "      <td>25.549</td>\n",
       "      <td>1.086153</td>\n",
       "      <td>0.002168</td>\n",
       "    </tr>\n",
       "  </tbody>\n",
       "</table>\n",
       "</div>"
      ],
      "text/plain": [
       "   year      Country  mean_temp  median_temp  max_temp  min_temp  \\\n",
       "0  1970  Afghanistan  14.783083      15.4710    26.862     1.337   \n",
       "1  1970      Albania  12.839667      12.1245    22.264     5.172   \n",
       "2  1970      Algeria  23.322833      22.5930    33.709    13.013   \n",
       "3  1970       Angola  22.149833      23.0415    23.493    19.110   \n",
       "4  1970     Anguilla  26.916167      27.0115    28.200    25.549   \n",
       "\n",
       "   variance_temp   emission  \n",
       "0      88.552117   1.718206  \n",
       "1      42.221893   4.813550  \n",
       "2      57.599106  18.931573  \n",
       "3       2.719536   8.952568  \n",
       "4       1.086153   0.002168  "
      ]
     },
     "execution_count": 375,
     "metadata": {},
     "output_type": "execute_result"
    }
   ],
   "source": [
    "#inspecting the data\n",
    "co2_data.head()"
   ]
  },
  {
   "cell_type": "code",
   "execution_count": 376,
   "id": "b967733d",
   "metadata": {},
   "outputs": [],
   "source": [
    "# Creating a copy of dataframe\n",
    "df_c = co2_data.copy()"
   ]
  },
  {
   "cell_type": "markdown",
   "id": "d812e589",
   "metadata": {},
   "source": [
    "#### Removing outliers "
   ]
  },
  {
   "cell_type": "code",
   "execution_count": 379,
   "id": "4234c13c",
   "metadata": {},
   "outputs": [],
   "source": [
    "# Creating the list of numerical features \n",
    "num_feat = ['mean_temp', 'median_temp', 'max_temp', 'min_temp',\n",
    "       'variance_temp', 'emission']"
   ]
  },
  {
   "cell_type": "code",
   "execution_count": 380,
   "id": "5610516c",
   "metadata": {},
   "outputs": [],
   "source": [
    "# Creating a for loop which identifies the index od outliers and create a list of outlier indexes\n",
    "for i in num_feat:\n",
    "  indeces = []                                              # creating a empty list\n",
    "  x = df_c[i]\n",
    "  mean = df_c[i].mean()\n",
    "  std = df_c[i].std()\n",
    "  index = df_c[(np.abs(x)) - (mean) >= (3 * std)].index     # getting the index of outlier\n",
    "  indeces.append(index)"
   ]
  },
  {
   "cell_type": "code",
   "execution_count": 381,
   "id": "c73914f2",
   "metadata": {},
   "outputs": [],
   "source": [
    "# Removing outliers\n",
    "df_c.drop(list(indeces)[0] , inplace = True)"
   ]
  },
  {
   "cell_type": "markdown",
   "id": "894acb1e",
   "metadata": {},
   "source": [
    "## Descriptive Statistics"
   ]
  },
  {
   "cell_type": "code",
   "execution_count": 382,
   "id": "06668632",
   "metadata": {},
   "outputs": [],
   "source": [
    "# Creating a function which takes data and feature as arguements and returns a dataframe with descriptive statistics of feature\n",
    "def desc_stats(data, feature):\n",
    "    df = data[feature].describe()\n",
    "    print(f'Descriptive Statistics of {feature}')\n",
    "    return df.reset_index()\n",
    "    "
   ]
  },
  {
   "cell_type": "code",
   "execution_count": 383,
   "id": "aa37d345",
   "metadata": {},
   "outputs": [],
   "source": [
    "# Creating a function which takes data and feature as arguements and returns a distribution plots of the feature.\n",
    "def dist_plots(data, feature):\n",
    "    sns.distplot(data[feature])\n",
    "    plt.title(f'Distribution plot of {feature}')\n",
    "    plt.show()"
   ]
  },
  {
   "cell_type": "code",
   "execution_count": 384,
   "id": "f20633d7",
   "metadata": {
    "scrolled": true
   },
   "outputs": [
    {
     "name": "stdout",
     "output_type": "stream",
     "text": [
      "Descriptive Statistics of variance_temp\n"
     ]
    },
    {
     "data": {
      "text/html": [
       "<div>\n",
       "<style scoped>\n",
       "    .dataframe tbody tr th:only-of-type {\n",
       "        vertical-align: middle;\n",
       "    }\n",
       "\n",
       "    .dataframe tbody tr th {\n",
       "        vertical-align: top;\n",
       "    }\n",
       "\n",
       "    .dataframe thead th {\n",
       "        text-align: right;\n",
       "    }\n",
       "</style>\n",
       "<table border=\"1\" class=\"dataframe\">\n",
       "  <thead>\n",
       "    <tr style=\"text-align: right;\">\n",
       "      <th></th>\n",
       "      <th>index</th>\n",
       "      <th>variance_temp</th>\n",
       "    </tr>\n",
       "  </thead>\n",
       "  <tbody>\n",
       "    <tr>\n",
       "      <th>0</th>\n",
       "      <td>count</td>\n",
       "      <td>7476.000000</td>\n",
       "    </tr>\n",
       "    <tr>\n",
       "      <th>1</th>\n",
       "      <td>mean</td>\n",
       "      <td>31.595300</td>\n",
       "    </tr>\n",
       "    <tr>\n",
       "      <th>2</th>\n",
       "      <td>std</td>\n",
       "      <td>42.467378</td>\n",
       "    </tr>\n",
       "    <tr>\n",
       "      <th>3</th>\n",
       "      <td>min</td>\n",
       "      <td>0.022092</td>\n",
       "    </tr>\n",
       "    <tr>\n",
       "      <th>4</th>\n",
       "      <td>25%</td>\n",
       "      <td>1.385950</td>\n",
       "    </tr>\n",
       "    <tr>\n",
       "      <th>5</th>\n",
       "      <td>50%</td>\n",
       "      <td>11.630805</td>\n",
       "    </tr>\n",
       "    <tr>\n",
       "      <th>6</th>\n",
       "      <td>75%</td>\n",
       "      <td>52.855942</td>\n",
       "    </tr>\n",
       "    <tr>\n",
       "      <th>7</th>\n",
       "      <td>max</td>\n",
       "      <td>295.247774</td>\n",
       "    </tr>\n",
       "  </tbody>\n",
       "</table>\n",
       "</div>"
      ],
      "text/plain": [
       "   index  variance_temp\n",
       "0  count    7476.000000\n",
       "1   mean      31.595300\n",
       "2    std      42.467378\n",
       "3    min       0.022092\n",
       "4    25%       1.385950\n",
       "5    50%      11.630805\n",
       "6    75%      52.855942\n",
       "7    max     295.247774"
      ]
     },
     "execution_count": 384,
     "metadata": {},
     "output_type": "execute_result"
    }
   ],
   "source": [
    "# Descriptive Statistics of variance_temp\n",
    "desc_stats(df_c, 'variance_temp')"
   ]
  },
  {
   "cell_type": "code",
   "execution_count": 385,
   "id": "42d2f1b3",
   "metadata": {},
   "outputs": [
    {
     "name": "stdout",
     "output_type": "stream",
     "text": [
      "Descriptive Statistics of mean_temp\n"
     ]
    },
    {
     "data": {
      "text/html": [
       "<div>\n",
       "<style scoped>\n",
       "    .dataframe tbody tr th:only-of-type {\n",
       "        vertical-align: middle;\n",
       "    }\n",
       "\n",
       "    .dataframe tbody tr th {\n",
       "        vertical-align: top;\n",
       "    }\n",
       "\n",
       "    .dataframe thead th {\n",
       "        text-align: right;\n",
       "    }\n",
       "</style>\n",
       "<table border=\"1\" class=\"dataframe\">\n",
       "  <thead>\n",
       "    <tr style=\"text-align: right;\">\n",
       "      <th></th>\n",
       "      <th>index</th>\n",
       "      <th>mean_temp</th>\n",
       "    </tr>\n",
       "  </thead>\n",
       "  <tbody>\n",
       "    <tr>\n",
       "      <th>0</th>\n",
       "      <td>count</td>\n",
       "      <td>7476.000000</td>\n",
       "    </tr>\n",
       "    <tr>\n",
       "      <th>1</th>\n",
       "      <td>mean</td>\n",
       "      <td>19.745706</td>\n",
       "    </tr>\n",
       "    <tr>\n",
       "      <th>2</th>\n",
       "      <td>std</td>\n",
       "      <td>8.965213</td>\n",
       "    </tr>\n",
       "    <tr>\n",
       "      <th>3</th>\n",
       "      <td>min</td>\n",
       "      <td>-20.446833</td>\n",
       "    </tr>\n",
       "    <tr>\n",
       "      <th>4</th>\n",
       "      <td>25%</td>\n",
       "      <td>13.097688</td>\n",
       "    </tr>\n",
       "    <tr>\n",
       "      <th>5</th>\n",
       "      <td>50%</td>\n",
       "      <td>23.453125</td>\n",
       "    </tr>\n",
       "    <tr>\n",
       "      <th>6</th>\n",
       "      <td>75%</td>\n",
       "      <td>26.522917</td>\n",
       "    </tr>\n",
       "    <tr>\n",
       "      <th>7</th>\n",
       "      <td>max</td>\n",
       "      <td>30.744750</td>\n",
       "    </tr>\n",
       "  </tbody>\n",
       "</table>\n",
       "</div>"
      ],
      "text/plain": [
       "   index    mean_temp\n",
       "0  count  7476.000000\n",
       "1   mean    19.745706\n",
       "2    std     8.965213\n",
       "3    min   -20.446833\n",
       "4    25%    13.097688\n",
       "5    50%    23.453125\n",
       "6    75%    26.522917\n",
       "7    max    30.744750"
      ]
     },
     "execution_count": 385,
     "metadata": {},
     "output_type": "execute_result"
    }
   ],
   "source": [
    "# Descriptive Statistics of mean_temp\n",
    "desc_stats(df_c, 'mean_temp')"
   ]
  },
  {
   "cell_type": "code",
   "execution_count": 386,
   "id": "144cf99e",
   "metadata": {
    "scrolled": true
   },
   "outputs": [
    {
     "name": "stdout",
     "output_type": "stream",
     "text": [
      "Descriptive Statistics of emission\n"
     ]
    },
    {
     "data": {
      "text/html": [
       "<div>\n",
       "<style scoped>\n",
       "    .dataframe tbody tr th:only-of-type {\n",
       "        vertical-align: middle;\n",
       "    }\n",
       "\n",
       "    .dataframe tbody tr th {\n",
       "        vertical-align: top;\n",
       "    }\n",
       "\n",
       "    .dataframe thead th {\n",
       "        text-align: right;\n",
       "    }\n",
       "</style>\n",
       "<table border=\"1\" class=\"dataframe\">\n",
       "  <thead>\n",
       "    <tr style=\"text-align: right;\">\n",
       "      <th></th>\n",
       "      <th>index</th>\n",
       "      <th>emission</th>\n",
       "    </tr>\n",
       "  </thead>\n",
       "  <tbody>\n",
       "    <tr>\n",
       "      <th>0</th>\n",
       "      <td>count</td>\n",
       "      <td>7476.000000</td>\n",
       "    </tr>\n",
       "    <tr>\n",
       "      <th>1</th>\n",
       "      <td>mean</td>\n",
       "      <td>73.305526</td>\n",
       "    </tr>\n",
       "    <tr>\n",
       "      <th>2</th>\n",
       "      <td>std</td>\n",
       "      <td>197.207581</td>\n",
       "    </tr>\n",
       "    <tr>\n",
       "      <th>3</th>\n",
       "      <td>min</td>\n",
       "      <td>0.002109</td>\n",
       "    </tr>\n",
       "    <tr>\n",
       "      <th>4</th>\n",
       "      <td>25%</td>\n",
       "      <td>1.167458</td>\n",
       "    </tr>\n",
       "    <tr>\n",
       "      <th>5</th>\n",
       "      <td>50%</td>\n",
       "      <td>7.327895</td>\n",
       "    </tr>\n",
       "    <tr>\n",
       "      <th>6</th>\n",
       "      <td>75%</td>\n",
       "      <td>51.135284</td>\n",
       "    </tr>\n",
       "    <tr>\n",
       "      <th>7</th>\n",
       "      <td>max</td>\n",
       "      <td>1820.165876</td>\n",
       "    </tr>\n",
       "  </tbody>\n",
       "</table>\n",
       "</div>"
      ],
      "text/plain": [
       "   index     emission\n",
       "0  count  7476.000000\n",
       "1   mean    73.305526\n",
       "2    std   197.207581\n",
       "3    min     0.002109\n",
       "4    25%     1.167458\n",
       "5    50%     7.327895\n",
       "6    75%    51.135284\n",
       "7    max  1820.165876"
      ]
     },
     "execution_count": 386,
     "metadata": {},
     "output_type": "execute_result"
    }
   ],
   "source": [
    "# Descriptive Statistics of emission\n",
    "desc_stats(df_c, 'emission')"
   ]
  },
  {
   "cell_type": "code",
   "execution_count": 387,
   "id": "86da9d97",
   "metadata": {},
   "outputs": [
    {
     "data": {
      "image/png": "[encoded data removed]",
      "text/plain": [
       "<Figure size 432x288 with 1 Axes>"
      ]
     },
     "metadata": {
      "needs_background": "light"
     },
     "output_type": "display_data"
    }
   ],
   "source": [
    "# Distribution plot of variance of temperature\n",
    "dist_plots(df_c, 'variance_temp')"
   ]
  },
  {
   "cell_type": "code",
   "execution_count": 388,
   "id": "4f4c7580",
   "metadata": {},
   "outputs": [
    {
     "data": {
      "image/png": "[encoded data removed]",
      "text/plain": [
       "<Figure size 432x288 with 1 Axes>"
      ]
     },
     "metadata": {
      "needs_background": "light"
     },
     "output_type": "display_data"
    }
   ],
   "source": [
    "# Distribution plot of mean temperature\n",
    "dist_plots(df_c, 'mean_temp')"
   ]
  },
  {
   "cell_type": "code",
   "execution_count": 389,
   "id": "e1a7b25b",
   "metadata": {
    "scrolled": true
   },
   "outputs": [
    {
     "data": {
      "image/png": "[encoded data removed]",
      "text/plain": [
       "<Figure size 432x288 with 1 Axes>"
      ]
     },
     "metadata": {
      "needs_background": "light"
     },
     "output_type": "display_data"
    }
   ],
   "source": [
    "# Distribution plot of emission\n",
    "dist_plots(df_c, 'emission')"
   ]
  },
  {
   "cell_type": "markdown",
   "id": "439f33f3",
   "metadata": {},
   "source": [
    "### Top 10 countries with high CO2 emission"
   ]
  },
  {
   "cell_type": "code",
   "execution_count": 390,
   "id": "a0dda90c",
   "metadata": {},
   "outputs": [
    {
     "data": {
      "image/png": "[encoded data removed]",
      "text/plain": [
       "<Figure size 1224x504 with 1 Axes>"
      ]
     },
     "metadata": {
      "needs_background": "light"
     },
     "output_type": "display_data"
    }
   ],
   "source": [
    "# Creating a bar chart with top 10 countries with high co2 emissions\n",
    "plt.figure(figsize = (17,7))\n",
    "top_df_c = df_c.groupby('Country')['emission'].sum().reset_index()\n",
    "top_10 = top_df_c.sort_values(by = 'emission', ascending = False)[0:10]\n",
    "plt.bar(top_10['Country'], top_10['emission'])\n",
    "plt.show()"
   ]
  },
  {
   "cell_type": "markdown",
   "id": "df9ddee1",
   "metadata": {},
   "source": [
    "## Correlation Analysis"
   ]
  },
  {
   "cell_type": "code",
   "execution_count": 391,
   "id": "79a69138",
   "metadata": {},
   "outputs": [
    {
     "data": {
      "image/png": "[encoded data removed]",
      "text/plain": [
       "<Figure size 432x288 with 2 Axes>"
      ]
     },
     "metadata": {
      "needs_background": "light"
     },
     "output_type": "display_data"
    }
   ],
   "source": [
    "# Creating a correlation heatmap \n",
    "sns.heatmap(df_c[['mean_temp', 'variance_temp', 'emission']].corr(), annot = True)\n",
    "plt.title('Correlation heatmap')\n",
    "plt.show()\n"
   ]
  },
  {
   "cell_type": "markdown",
   "id": "6cba78dd",
   "metadata": {},
   "source": [
    "## Regression Analysis"
   ]
  },
  {
   "cell_type": "code",
   "execution_count": 392,
   "id": "8faf67a6",
   "metadata": {},
   "outputs": [],
   "source": [
    "# Creating a function which performs regression analysis\n",
    "from sklearn.linear_model import LinearRegression\n",
    "from sklearn.model_selection import train_test_split\n",
    "from sklearn.metrics import mean_squared_error, r2_score\n",
    "\n",
    "def lin_reg(data, input_feat):\n",
    "    x = data[input_feat].values.reshape(-1, 1)\n",
    "    y = data['emission'].values\n",
    "    X_train, X_test, y_train, y_test = train_test_split(x, y, test_size=0.2, random_state=0)\n",
    "    regressor = LinearRegression()\n",
    "    regressor.fit(X_train, y_train)\n",
    "    y_pred = regressor.predict(X_test)\n",
    "    mse = mean_squared_error(y_test, y_pred)\n",
    "    print('Mean Squared Error:', mse)\n",
    "\n",
    "    # Calculate R-squared\n",
    "    r2 = r2_score(y_test, y_pred)\n",
    "    print('R-squared:', r2)\n",
    "    y_pred1 = regressor.predict(x)\n",
    "   \n",
    "    plt.scatter(x, y)\n",
    "    plt.plot(x, y_pred1, color='red')\n",
    "    plt.show()"
   ]
  },
  {
   "cell_type": "code",
   "execution_count": 393,
   "id": "a15844f3",
   "metadata": {},
   "outputs": [
    {
     "name": "stdout",
     "output_type": "stream",
     "text": [
      "Mean Squared Error: 34361.89423839837\n",
      "R-squared: 0.10754243999960422\n"
     ]
    },
    {
     "data": {
      "image/png": "[encoded data removed]",
      "text/plain": [
       "<Figure size 432x288 with 1 Axes>"
      ]
     },
     "metadata": {
      "needs_background": "light"
     },
     "output_type": "display_data"
    }
   ],
   "source": [
    "# Regression analysis between CO2 emissions and Variance of temperature \n",
    "lin_reg(df_c, 'variance_temp')"
   ]
  },
  {
   "cell_type": "code",
   "execution_count": 394,
   "id": "207f44fb",
   "metadata": {
    "scrolled": true
   },
   "outputs": [
    {
     "name": "stdout",
     "output_type": "stream",
     "text": [
      "Mean Squared Error: 35538.60317115427\n",
      "R-squared: 0.07698059798728352\n"
     ]
    },
    {
     "data": {
      "image/png": "[encoded data removed]",
      "text/plain": [
       "<Figure size 432x288 with 1 Axes>"
      ]
     },
     "metadata": {
      "needs_background": "light"
     },
     "output_type": "display_data"
    }
   ],
   "source": [
    "# Regression analysis between CO2 emissions and mean temperature \n",
    "lin_reg(df_c, 'mean_temp')"
   ]
  },
  {
   "cell_type": "markdown",
   "id": "06dc708c",
   "metadata": {},
   "source": [
    "## Time series analysis"
   ]
  },
  {
   "cell_type": "code",
   "execution_count": 395,
   "id": "ae9a47da",
   "metadata": {
    "scrolled": true
   },
   "outputs": [
    {
     "data": {
      "image/png": "[encoded data removed]",
      "text/plain": [
       "<Figure size 432x288 with 1 Axes>"
      ]
     },
     "metadata": {
      "needs_background": "light"
     },
     "output_type": "display_data"
    }
   ],
   "source": [
    "# Creating a time series chart showing total CO2 emissions over time\n",
    "df_c.groupby('year')['emission'].sum().plot()\n",
    "plt.title('Total Co2 Emission over time')\n",
    "plt.ylabel('emission')\n",
    "plt.show()"
   ]
  },
  {
   "cell_type": "code",
   "execution_count": 396,
   "id": "983149a6",
   "metadata": {},
   "outputs": [
    {
     "data": {
      "image/png": "[encoded data removed]",
      "text/plain": [
       "<Figure size 432x288 with 1 Axes>"
      ]
     },
     "metadata": {
      "needs_background": "light"
     },
     "output_type": "display_data"
    }
   ],
   "source": [
    "# Creating a time series chart showing Variance of temperatures over time\n",
    "df_c.groupby('year')['variance_temp'].mean().plot()\n",
    "plt.title('Average variance of temperature over time')\n",
    "plt.ylabel('Variance of temperature')\n",
    "plt.show()"
   ]
  },
  {
   "cell_type": "code",
   "execution_count": 397,
   "id": "0e741329",
   "metadata": {
    "scrolled": false
   },
   "outputs": [
    {
     "data": {
      "image/png": "[encoded data removed]",
      "text/plain": [
       "<Figure size 432x288 with 1 Axes>"
      ]
     },
     "metadata": {
      "needs_background": "light"
     },
     "output_type": "display_data"
    }
   ],
   "source": [
    "# Creating a time series chart showing average temperature over time\n",
    "df_c.groupby('year')['mean_temp'].mean().plot()\n",
    "plt.title('Average temperature over time')\n",
    "plt.ylabel('Average Temperature')\n",
    "plt.show()"
   ]
  },
  {
   "cell_type": "code",
   "execution_count": 398,
   "id": "837ca4cd",
   "metadata": {},
   "outputs": [],
   "source": [
    "df_c.to_csv('co2_data.csv')"
   ]
  },
  {
   "cell_type": "markdown",
   "id": "ad019102",
   "metadata": {},
   "source": [
    "## CO2 Emission Per Sector Analysis"
   ]
  },
  {
   "cell_type": "code",
   "execution_count": 399,
   "id": "d1c7708b",
   "metadata": {},
   "outputs": [],
   "source": [
    "# creating a copy of data\n",
    "df_cs = co2_by_sector_df.copy()"
   ]
  },
  {
   "cell_type": "markdown",
   "id": "3343a0c7",
   "metadata": {},
   "source": [
    "#### Removing outliers"
   ]
  },
  {
   "cell_type": "code",
   "execution_count": 400,
   "id": "a250b5e6",
   "metadata": {},
   "outputs": [],
   "source": [
    "# Creating a for loop which identifies the index od outliers and create a list of outlier indexes\n",
    "for i in num_feat:\n",
    "  indeces_cs = []                                              # creating a empty list\n",
    "  x = df_cs[i]\n",
    "  mean = df_cs[i].mean()\n",
    "  std = df_cs[i].std()\n",
    "  index = df_cs[(np.abs(x)) - (mean) >= (3 * std)].index     # getting the index of outlier\n",
    "  indeces_cs.append(index)"
   ]
  },
  {
   "cell_type": "code",
   "execution_count": 401,
   "id": "bbc8fa71",
   "metadata": {},
   "outputs": [],
   "source": [
    "# Removing outliers\n",
    "df_cs.drop(list(indeces_cs)[0] , inplace = True)"
   ]
  },
  {
   "cell_type": "markdown",
   "id": "cd2c1e7b",
   "metadata": {},
   "source": [
    "#### Average emissions per sector"
   ]
  },
  {
   "cell_type": "code",
   "execution_count": 402,
   "id": "c79678df",
   "metadata": {},
   "outputs": [
    {
     "data": {
      "image/png": "[encoded data removed]",
      "text/plain": [
       "<Figure size 1080x504 with 1 Axes>"
      ]
     },
     "metadata": {
      "needs_background": "light"
     },
     "output_type": "display_data"
    }
   ],
   "source": [
    "# Creating a bar chart showing Average emissions sector wise\n",
    "sec = df_cs.groupby('Sector')['emission'].mean().sort_values().reset_index()\n",
    "plt.figure(figsize = (15,7))\n",
    "plt.barh(sec['Sector'], sec['emission'])\n",
    "plt.title('Average emissions per sector')\n",
    "plt.show()"
   ]
  },
  {
   "cell_type": "markdown",
   "id": "a31f9d74",
   "metadata": {},
   "source": [
    "## CO2 emissions per captia analysis"
   ]
  },
  {
   "cell_type": "code",
   "execution_count": 403,
   "id": "313ce64f",
   "metadata": {},
   "outputs": [],
   "source": [
    "# Creating a copy of dataframe\n",
    "df_cp = co2_per_captia_df.copy()"
   ]
  },
  {
   "cell_type": "markdown",
   "id": "41307ea9",
   "metadata": {},
   "source": [
    "#### Removing outliers"
   ]
  },
  {
   "cell_type": "code",
   "execution_count": 404,
   "id": "a4d8ded6",
   "metadata": {},
   "outputs": [],
   "source": [
    "# Creating a for loop which identifies the index od outliers and create a list of outlier indexes\n",
    "for i in num_feat:\n",
    "  indeces_cp = []                                              # creating a empty list\n",
    "  x = df_cp[i]\n",
    "  mean = df_cp[i].mean()\n",
    "  std = df_cp[i].std()\n",
    "  index = df_cp[(np.abs(x)) - (mean) >= (3 * std)].index     # getting the index of outlier\n",
    "  indeces_cp.append(index)"
   ]
  },
  {
   "cell_type": "code",
   "execution_count": 405,
   "id": "e9533522",
   "metadata": {},
   "outputs": [],
   "source": [
    "# Removing outliers\n",
    "df_cp.drop(list(indeces_cp)[0] , inplace = True)"
   ]
  },
  {
   "cell_type": "markdown",
   "id": "0fceba04",
   "metadata": {},
   "source": [
    "#### Top 10 countries with high emissions per captia"
   ]
  },
  {
   "cell_type": "code",
   "execution_count": 406,
   "id": "6be2af03",
   "metadata": {
    "scrolled": true
   },
   "outputs": [
    {
     "data": {
      "image/png": "[encoded data removed]",
      "text/plain": [
       "<Figure size 1080x504 with 1 Axes>"
      ]
     },
     "metadata": {
      "needs_background": "light"
     },
     "output_type": "display_data"
    }
   ],
   "source": [
    "# Creating a bar chart showing the top 10 countries with high co2 emissions per captia\n",
    "per_captia = df_cp.groupby('Country')['emission'].mean().reset_index().sort_values(by = 'emission', ascending = False)[0:10]\n",
    "plt.figure(figsize = (15,7))\n",
    "plt.barh(per_captia['Country'][::-1], per_captia['emission'][::-1])\n",
    "plt.title('Top 10 countries with high emissions per captia')\n",
    "plt.show()"
   ]
  },
  {
   "cell_type": "markdown",
   "id": "32b5882c",
   "metadata": {},
   "source": [
    "#### Correlation between CO2 emissions per captia and temperature variables"
   ]
  },
  {
   "cell_type": "code",
   "execution_count": 407,
   "id": "0285f82c",
   "metadata": {
    "scrolled": true
   },
   "outputs": [
    {
     "data": {
      "image/png": "[encoded data removed]",
      "text/plain": [
       "<Figure size 432x288 with 2 Axes>"
      ]
     },
     "metadata": {
      "needs_background": "light"
     },
     "output_type": "display_data"
    }
   ],
   "source": [
    "# Creating a correlation heatmap\n",
    "sns.heatmap(df_cp[['emission', 'variance_temp', 'mean_temp']].corr(), annot = True)\n",
    "plt.title('Correlation heatmap')\n",
    "plt.show()"
   ]
  },
  {
   "cell_type": "markdown",
   "id": "6d7a0bb4",
   "metadata": {},
   "source": [
    "## Total Green House Gases emission analysis"
   ]
  },
  {
   "cell_type": "code",
   "execution_count": 408,
   "id": "c71ced55",
   "metadata": {},
   "outputs": [],
   "source": [
    "# Creating a copy of dataframe\n",
    "ghg_df = ghg_total_df.copy()"
   ]
  },
  {
   "cell_type": "code",
   "execution_count": 409,
   "id": "a9d95917",
   "metadata": {
    "scrolled": true
   },
   "outputs": [
    {
     "name": "stdout",
     "output_type": "stream",
     "text": [
      "Descriptive Statistics of emission\n"
     ]
    },
    {
     "data": {
      "text/html": [
       "<div>\n",
       "<style scoped>\n",
       "    .dataframe tbody tr th:only-of-type {\n",
       "        vertical-align: middle;\n",
       "    }\n",
       "\n",
       "    .dataframe tbody tr th {\n",
       "        vertical-align: top;\n",
       "    }\n",
       "\n",
       "    .dataframe thead th {\n",
       "        text-align: right;\n",
       "    }\n",
       "</style>\n",
       "<table border=\"1\" class=\"dataframe\">\n",
       "  <thead>\n",
       "    <tr style=\"text-align: right;\">\n",
       "      <th></th>\n",
       "      <th>index</th>\n",
       "      <th>emission</th>\n",
       "    </tr>\n",
       "  </thead>\n",
       "  <tbody>\n",
       "    <tr>\n",
       "      <th>0</th>\n",
       "      <td>count</td>\n",
       "      <td>7568.000000</td>\n",
       "    </tr>\n",
       "    <tr>\n",
       "      <th>1</th>\n",
       "      <td>mean</td>\n",
       "      <td>181.221937</td>\n",
       "    </tr>\n",
       "    <tr>\n",
       "      <th>2</th>\n",
       "      <td>std</td>\n",
       "      <td>719.249990</td>\n",
       "    </tr>\n",
       "    <tr>\n",
       "      <th>3</th>\n",
       "      <td>min</td>\n",
       "      <td>0.003847</td>\n",
       "    </tr>\n",
       "    <tr>\n",
       "      <th>4</th>\n",
       "      <td>25%</td>\n",
       "      <td>4.943478</td>\n",
       "    </tr>\n",
       "    <tr>\n",
       "      <th>5</th>\n",
       "      <td>50%</td>\n",
       "      <td>22.674108</td>\n",
       "    </tr>\n",
       "    <tr>\n",
       "      <th>6</th>\n",
       "      <td>75%</td>\n",
       "      <td>86.397379</td>\n",
       "    </tr>\n",
       "    <tr>\n",
       "      <th>7</th>\n",
       "      <td>max</td>\n",
       "      <td>13222.846036</td>\n",
       "    </tr>\n",
       "  </tbody>\n",
       "</table>\n",
       "</div>"
      ],
      "text/plain": [
       "   index      emission\n",
       "0  count   7568.000000\n",
       "1   mean    181.221937\n",
       "2    std    719.249990\n",
       "3    min      0.003847\n",
       "4    25%      4.943478\n",
       "5    50%     22.674108\n",
       "6    75%     86.397379\n",
       "7    max  13222.846036"
      ]
     },
     "execution_count": 409,
     "metadata": {},
     "output_type": "execute_result"
    }
   ],
   "source": [
    "# Descriptive Statistics of green house gases emission\n",
    "desc_stats(ghg_df, 'emission')"
   ]
  },
  {
   "cell_type": "code",
   "execution_count": 410,
   "id": "b8dfd1d8",
   "metadata": {
    "scrolled": false
   },
   "outputs": [
    {
     "data": {
      "image/png": "[encoded data removed]",
      "text/plain": [
       "<Figure size 432x288 with 1 Axes>"
      ]
     },
     "metadata": {
      "needs_background": "light"
     },
     "output_type": "display_data"
    }
   ],
   "source": [
    "# Distribution plot of green house gases emission \n",
    "dist_plots(ghg_df, 'emission')"
   ]
  },
  {
   "cell_type": "markdown",
   "id": "2dd50453",
   "metadata": {},
   "source": [
    "### Top 10 countries with high Green House Gases emissions"
   ]
  },
  {
   "cell_type": "code",
   "execution_count": 411,
   "id": "5a16d7af",
   "metadata": {
    "scrolled": true
   },
   "outputs": [
    {
     "data": {
      "image/png": "[encoded data removed]",
      "text/plain": [
       "<Figure size 1224x504 with 1 Axes>"
      ]
     },
     "metadata": {
      "needs_background": "light"
     },
     "output_type": "display_data"
    }
   ],
   "source": [
    "# Creating a bar chart showing top 10 countries with high green house gases emissions \n",
    "plt.figure(figsize = (17,7))\n",
    "top_df_g = ghg_df.groupby('Country')['emission'].sum().reset_index()\n",
    "top_10_g = top_df_g.sort_values(by = 'emission', ascending = False)[0:10]\n",
    "plt.bar(top_10_g['Country'], top_10_g['emission'])\n",
    "plt.show()"
   ]
  },
  {
   "cell_type": "markdown",
   "id": "77d83cef",
   "metadata": {},
   "source": [
    "## Correlation Analysis"
   ]
  },
  {
   "cell_type": "code",
   "execution_count": 412,
   "id": "1a5fb3d6",
   "metadata": {},
   "outputs": [
    {
     "data": {
      "image/png": "[encoded data removed]",
      "text/plain": [
       "<Figure size 432x288 with 2 Axes>"
      ]
     },
     "metadata": {
      "needs_background": "light"
     },
     "output_type": "display_data"
    }
   ],
   "source": [
    "sns.heatmap(ghg_df[['mean_temp', 'variance_temp', 'emission']].corr(), annot = True)\n",
    "plt.title('Correlation heatmap')\n",
    "plt.show()"
   ]
  },
  {
   "cell_type": "markdown",
   "id": "f985bd8c",
   "metadata": {},
   "source": [
    "## Regression Analysis"
   ]
  },
  {
   "cell_type": "code",
   "execution_count": 413,
   "id": "8280dc7a",
   "metadata": {},
   "outputs": [],
   "source": [
    "# Creating a function which performs regression analysis\n",
    "from sklearn.linear_model import LinearRegression\n",
    "from sklearn.model_selection import train_test_split\n",
    "from sklearn.metrics import mean_squared_error, r2_score\n",
    "\n",
    "def lin_reg(data, input_feat):\n",
    "    x = data[input_feat].values.reshape(-1, 1)\n",
    "    y = data['emission'].values\n",
    "    X_train, X_test, y_train, y_test = train_test_split(x, y, test_size=0.2, random_state=0)\n",
    "    regressor = LinearRegression()\n",
    "    regressor.fit(X_train, y_train)\n",
    "    y_pred = regressor.predict(X_test)\n",
    "    mse = mean_squared_error(y_test, y_pred)\n",
    "    print('Mean Squared Error:', mse)\n",
    "\n",
    "    # Calculate R-squared\n",
    "    r2 = r2_score(y_test, y_pred)\n",
    "    print('R-squared:', r2)\n",
    "    y_pred1 = regressor.predict(x)\n",
    "   \n",
    "    plt.scatter(x, y)\n",
    "    plt.plot(x, y_pred1, color='red')\n",
    "    plt.show()"
   ]
  },
  {
   "cell_type": "code",
   "execution_count": 414,
   "id": "2db50763",
   "metadata": {},
   "outputs": [
    {
     "name": "stdout",
     "output_type": "stream",
     "text": [
      "Mean Squared Error: 365326.92547140154\n",
      "R-squared: 0.0815508951389412\n"
     ]
    },
    {
     "data": {
      "image/png": "[encoded data removed]",
      "text/plain": [
       "<Figure size 432x288 with 1 Axes>"
      ]
     },
     "metadata": {
      "needs_background": "light"
     },
     "output_type": "display_data"
    }
   ],
   "source": [
    "# Regression analysis between variance of temperature and green house gases emissions\n",
    "lin_reg(ghg_df, 'variance_temp')"
   ]
  },
  {
   "cell_type": "code",
   "execution_count": 415,
   "id": "90d777cc",
   "metadata": {
    "scrolled": true
   },
   "outputs": [
    {
     "name": "stdout",
     "output_type": "stream",
     "text": [
      "Mean Squared Error: 379627.3876834972\n",
      "R-squared: 0.04559885929912222\n"
     ]
    },
    {
     "data": {
      "image/png": "[encoded data removed]",
      "text/plain": [
       "<Figure size 432x288 with 1 Axes>"
      ]
     },
     "metadata": {
      "needs_background": "light"
     },
     "output_type": "display_data"
    }
   ],
   "source": [
    "# Regression analysis between average temperature and green house gas emissions \n",
    "lin_reg(ghg_df, 'mean_temp')"
   ]
  },
  {
   "cell_type": "markdown",
   "id": "6a8e5085",
   "metadata": {},
   "source": [
    "## Time series analysis"
   ]
  },
  {
   "cell_type": "code",
   "execution_count": 416,
   "id": "229da858",
   "metadata": {},
   "outputs": [
    {
     "data": {
      "image/png": "[encoded data removed]",
      "text/plain": [
       "<Figure size 432x288 with 1 Axes>"
      ]
     },
     "metadata": {
      "needs_background": "light"
     },
     "output_type": "display_data"
    }
   ],
   "source": [
    "# Creating a time series chart showing total ghg emissions over time\n",
    "ghg_df.groupby('year')['emission'].sum().plot()\n",
    "plt.title('Total ghg Emission over time')\n",
    "plt.ylabel('emission')\n",
    "plt.show()"
   ]
  },
  {
   "cell_type": "markdown",
   "id": "7e0d425e",
   "metadata": {},
   "source": [
    "## Total Green House Gases Emission per sector Analysis"
   ]
  },
  {
   "cell_type": "code",
   "execution_count": 417,
   "id": "fe234cfa",
   "metadata": {},
   "outputs": [],
   "source": [
    "# Creating copy of dataframe\n",
    "ghg_s = ghg_per_sec_df.copy()"
   ]
  },
  {
   "cell_type": "markdown",
   "id": "d5933e70",
   "metadata": {},
   "source": [
    "#### Average emissions per sector"
   ]
  },
  {
   "cell_type": "code",
   "execution_count": 418,
   "id": "4792890c",
   "metadata": {},
   "outputs": [
    {
     "data": {
      "image/png": "[encoded data removed]",
      "text/plain": [
       "<Figure size 1080x504 with 1 Axes>"
      ]
     },
     "metadata": {
      "needs_background": "light"
     },
     "output_type": "display_data"
    }
   ],
   "source": [
    "# Creating a bar chart showing Average ghg emissions sector wise\n",
    "sec = ghg_s.groupby('Sector')['emission'].mean().sort_values().reset_index()\n",
    "plt.figure(figsize = (15,7))\n",
    "plt.barh(sec['Sector'], sec['emission'])\n",
    "plt.title('Average emissions per sector')\n",
    "plt.show()"
   ]
  },
  {
   "cell_type": "markdown",
   "id": "104ba5da",
   "metadata": {},
   "source": [
    "## GHG emissions per captia analysis"
   ]
  },
  {
   "cell_type": "code",
   "execution_count": 419,
   "id": "b6c1a617",
   "metadata": {},
   "outputs": [],
   "source": [
    "# Creating a copy of dataframe\n",
    "ghg_cp = ghg_per_captia_df.copy()"
   ]
  },
  {
   "cell_type": "markdown",
   "id": "d762a047",
   "metadata": {},
   "source": [
    "#### Top 10 countries with high ghg emissions per captia"
   ]
  },
  {
   "cell_type": "code",
   "execution_count": 420,
   "id": "2163634f",
   "metadata": {
    "scrolled": true
   },
   "outputs": [
    {
     "data": {
      "image/png": "[encoded data removed]",
      "text/plain": [
       "<Figure size 1080x504 with 1 Axes>"
      ]
     },
     "metadata": {
      "needs_background": "light"
     },
     "output_type": "display_data"
    }
   ],
   "source": [
    "# Creating a bar chart showing top 10 countries with high ghg emissions per captia\n",
    "per_captia = ghg_cp.groupby('Country')['emission'].mean().reset_index().sort_values(by = 'emission', ascending = False)[0:10]\n",
    "plt.figure(figsize = (15,7))\n",
    "plt.barh(per_captia['Country'][::-1], per_captia['emission'][::-1])\n",
    "plt.title('Top 10 countries with high emissions per captia')\n",
    "plt.show()"
   ]
  },
  {
   "cell_type": "markdown",
   "id": "426f2337",
   "metadata": {},
   "source": [
    "#### Correlation between CO2 emissions per captia and temperature variables"
   ]
  },
  {
   "cell_type": "code",
   "execution_count": 421,
   "id": "9d7646fa",
   "metadata": {
    "scrolled": true
   },
   "outputs": [
    {
     "data": {
      "image/png": "[encoded data removed]",
      "text/plain": [
       "<Figure size 432x288 with 2 Axes>"
      ]
     },
     "metadata": {
      "needs_background": "light"
     },
     "output_type": "display_data"
    }
   ],
   "source": [
    "sns.heatmap(ghg_cp[['emission', 'variance_temp', 'mean_temp']].corr(), annot = True)\n",
    "plt.title('Correlation Heatmap')\n",
    "plt.show()"
   ]
  }
 ],
 "metadata": {
  "kernelspec": {
   "display_name": "Python 3 (ipykernel)",
   "language": "python",
   "name": "python3"
  },
  "language_info": {
   "codemirror_mode": {
    "name": "ipython",
    "version": 3
   },
   "file_extension": ".py",
   "mimetype": "text/x-python",
   "name": "python",
   "nbconvert_exporter": "python",
   "pygments_lexer": "ipython3",
   "version": "3.9.7"
  }
 },
 "nbformat": 4,
 "nbformat_minor": 5
}
